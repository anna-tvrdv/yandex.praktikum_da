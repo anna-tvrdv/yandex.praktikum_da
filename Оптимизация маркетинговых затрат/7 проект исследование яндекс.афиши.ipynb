{
 "cells": [
  {
   "cell_type": "markdown",
   "metadata": {},
   "source": [
    "# <center>ИССЛЕДОВАНИЕ ИСТОЧНИКОВ ТРАФИКА, ОПРЕДЕЛЕНИЕ НЕВЫГОДНЫХ СРЕДИ НИХ. СОВЕТЫ ПО ПЕРЕРАСПРЕДЕЛЕНИЮ БЮДЖЕТА</center>"
   ]
  },
  {
   "cell_type": "markdown",
   "metadata": {},
   "source": [
    "Маркетологам Яндекс.Афиши  необходимо помочь снизить расходы — отказаться от невыгодных источников трафика и перераспределить бюджет.\n",
    "Имеем данные Яндекс.Афиши с июня 2017 по конец мая 2018 года:\n",
    "- лог сервера с данными о посещениях сайта Яндекс.Афиши,\n",
    "- выгрузка всех заказов за этот период,\n",
    "- статистика рекламных расходов.\n",
    "\n",
    "Перед нами стоят следующие задачи:\n",
    "- изучить данные,\n",
    "- рассчитать метрики и построить графики,\n",
    "- сформулировать выводы и рекомендации.\n",
    "\n",
    "Цель проекта - на основе проведенного исследования дать рекомендации маркетологам, куда и сколько им вкладывать денег."
   ]
  },
  {
   "cell_type": "markdown",
   "metadata": {},
   "source": [
    "## ИЗУЧЕНИЕ ДАННЫХ"
   ]
  },
  {
   "cell_type": "code",
   "execution_count": 1,
   "metadata": {
    "scrolled": true
   },
   "outputs": [],
   "source": [
    "# Отключаем предупреждения \n",
    "import warnings\n",
    "warnings.filterwarnings('ignore')"
   ]
  },
  {
   "cell_type": "code",
   "execution_count": 2,
   "metadata": {
    "scrolled": true
   },
   "outputs": [],
   "source": [
    "# импортируем библиотеки\n",
    "import pandas as pd\n",
    "import numpy as np\n",
    "import matplotlib.pyplot as plt\n",
    "import seaborn as sns"
   ]
  },
  {
   "cell_type": "code",
   "execution_count": 3,
   "metadata": {
    "scrolled": true
   },
   "outputs": [
    {
     "name": "stdout",
     "output_type": "stream",
     "text": [
      "<class 'pandas.core.frame.DataFrame'>\n",
      "RangeIndex: 359400 entries, 0 to 359399\n",
      "Data columns (total 5 columns):\n",
      " #   Column     Non-Null Count   Dtype \n",
      "---  ------     --------------   ----- \n",
      " 0   Device     359400 non-null  object\n",
      " 1   End Ts     359400 non-null  object\n",
      " 2   Source Id  359400 non-null  int64 \n",
      " 3   Start Ts   359400 non-null  object\n",
      " 4   Uid        359400 non-null  uint64\n",
      "dtypes: int64(1), object(3), uint64(1)\n",
      "memory usage: 13.7+ MB\n"
     ]
    }
   ],
   "source": [
    "# выводим общую информацию по таблице с информацией о посещении сайта\n",
    "visits_log = pd.read_csv('/Users/ruslan/Downloads/DataSets/visits_log.csv')\n",
    "visits_log.info()"
   ]
  },
  {
   "cell_type": "code",
   "execution_count": 4,
   "metadata": {
    "scrolled": true
   },
   "outputs": [
    {
     "data": {
      "text/html": [
       "<div>\n",
       "<style scoped>\n",
       "    .dataframe tbody tr th:only-of-type {\n",
       "        vertical-align: middle;\n",
       "    }\n",
       "\n",
       "    .dataframe tbody tr th {\n",
       "        vertical-align: top;\n",
       "    }\n",
       "\n",
       "    .dataframe thead th {\n",
       "        text-align: right;\n",
       "    }\n",
       "</style>\n",
       "<table border=\"1\" class=\"dataframe\">\n",
       "  <thead>\n",
       "    <tr style=\"text-align: right;\">\n",
       "      <th></th>\n",
       "      <th>Device</th>\n",
       "      <th>End Ts</th>\n",
       "      <th>Source Id</th>\n",
       "      <th>Start Ts</th>\n",
       "      <th>Uid</th>\n",
       "    </tr>\n",
       "  </thead>\n",
       "  <tbody>\n",
       "    <tr>\n",
       "      <th>0</th>\n",
       "      <td>touch</td>\n",
       "      <td>2017-12-20 17:38:00</td>\n",
       "      <td>4</td>\n",
       "      <td>2017-12-20 17:20:00</td>\n",
       "      <td>16879256277535980062</td>\n",
       "    </tr>\n",
       "    <tr>\n",
       "      <th>1</th>\n",
       "      <td>desktop</td>\n",
       "      <td>2018-02-19 17:21:00</td>\n",
       "      <td>2</td>\n",
       "      <td>2018-02-19 16:53:00</td>\n",
       "      <td>104060357244891740</td>\n",
       "    </tr>\n",
       "    <tr>\n",
       "      <th>2</th>\n",
       "      <td>touch</td>\n",
       "      <td>2017-07-01 01:54:00</td>\n",
       "      <td>5</td>\n",
       "      <td>2017-07-01 01:54:00</td>\n",
       "      <td>7459035603376831527</td>\n",
       "    </tr>\n",
       "    <tr>\n",
       "      <th>3</th>\n",
       "      <td>desktop</td>\n",
       "      <td>2018-05-20 11:23:00</td>\n",
       "      <td>9</td>\n",
       "      <td>2018-05-20 10:59:00</td>\n",
       "      <td>16174680259334210214</td>\n",
       "    </tr>\n",
       "    <tr>\n",
       "      <th>4</th>\n",
       "      <td>desktop</td>\n",
       "      <td>2017-12-27 14:06:00</td>\n",
       "      <td>3</td>\n",
       "      <td>2017-12-27 14:06:00</td>\n",
       "      <td>9969694820036681168</td>\n",
       "    </tr>\n",
       "  </tbody>\n",
       "</table>\n",
       "</div>"
      ],
      "text/plain": [
       "    Device               End Ts  Source Id             Start Ts  \\\n",
       "0    touch  2017-12-20 17:38:00          4  2017-12-20 17:20:00   \n",
       "1  desktop  2018-02-19 17:21:00          2  2018-02-19 16:53:00   \n",
       "2    touch  2017-07-01 01:54:00          5  2017-07-01 01:54:00   \n",
       "3  desktop  2018-05-20 11:23:00          9  2018-05-20 10:59:00   \n",
       "4  desktop  2017-12-27 14:06:00          3  2017-12-27 14:06:00   \n",
       "\n",
       "                    Uid  \n",
       "0  16879256277535980062  \n",
       "1    104060357244891740  \n",
       "2   7459035603376831527  \n",
       "3  16174680259334210214  \n",
       "4   9969694820036681168  "
      ]
     },
     "execution_count": 4,
     "metadata": {},
     "output_type": "execute_result"
    }
   ],
   "source": [
    "visits_log.head(5)  # выводим первые 5 строк этой таблицы"
   ]
  },
  {
   "cell_type": "code",
   "execution_count": 5,
   "metadata": {
    "scrolled": true
   },
   "outputs": [
    {
     "name": "stdout",
     "output_type": "stream",
     "text": [
      "<class 'pandas.core.frame.DataFrame'>\n",
      "RangeIndex: 50415 entries, 0 to 50414\n",
      "Data columns (total 3 columns):\n",
      " #   Column   Non-Null Count  Dtype  \n",
      "---  ------   --------------  -----  \n",
      " 0   Buy Ts   50415 non-null  object \n",
      " 1   Revenue  50415 non-null  float64\n",
      " 2   Uid      50415 non-null  uint64 \n",
      "dtypes: float64(1), object(1), uint64(1)\n",
      "memory usage: 1.2+ MB\n"
     ]
    }
   ],
   "source": [
    "# выводим общую информацию по таблице с информацией о заказах\n",
    "orders_log = pd.read_csv('/Users/ruslan/Downloads/DataSets/orders_log.csv')\n",
    "orders_log.info()"
   ]
  },
  {
   "cell_type": "code",
   "execution_count": 6,
   "metadata": {
    "scrolled": true
   },
   "outputs": [
    {
     "data": {
      "text/html": [
       "<div>\n",
       "<style scoped>\n",
       "    .dataframe tbody tr th:only-of-type {\n",
       "        vertical-align: middle;\n",
       "    }\n",
       "\n",
       "    .dataframe tbody tr th {\n",
       "        vertical-align: top;\n",
       "    }\n",
       "\n",
       "    .dataframe thead th {\n",
       "        text-align: right;\n",
       "    }\n",
       "</style>\n",
       "<table border=\"1\" class=\"dataframe\">\n",
       "  <thead>\n",
       "    <tr style=\"text-align: right;\">\n",
       "      <th></th>\n",
       "      <th>Buy Ts</th>\n",
       "      <th>Revenue</th>\n",
       "      <th>Uid</th>\n",
       "    </tr>\n",
       "  </thead>\n",
       "  <tbody>\n",
       "    <tr>\n",
       "      <th>0</th>\n",
       "      <td>2017-06-01 00:10:00</td>\n",
       "      <td>17.00</td>\n",
       "      <td>10329302124590727494</td>\n",
       "    </tr>\n",
       "    <tr>\n",
       "      <th>1</th>\n",
       "      <td>2017-06-01 00:25:00</td>\n",
       "      <td>0.55</td>\n",
       "      <td>11627257723692907447</td>\n",
       "    </tr>\n",
       "    <tr>\n",
       "      <th>2</th>\n",
       "      <td>2017-06-01 00:27:00</td>\n",
       "      <td>0.37</td>\n",
       "      <td>17903680561304213844</td>\n",
       "    </tr>\n",
       "    <tr>\n",
       "      <th>3</th>\n",
       "      <td>2017-06-01 00:29:00</td>\n",
       "      <td>0.55</td>\n",
       "      <td>16109239769442553005</td>\n",
       "    </tr>\n",
       "    <tr>\n",
       "      <th>4</th>\n",
       "      <td>2017-06-01 07:58:00</td>\n",
       "      <td>0.37</td>\n",
       "      <td>14200605875248379450</td>\n",
       "    </tr>\n",
       "  </tbody>\n",
       "</table>\n",
       "</div>"
      ],
      "text/plain": [
       "                Buy Ts  Revenue                   Uid\n",
       "0  2017-06-01 00:10:00    17.00  10329302124590727494\n",
       "1  2017-06-01 00:25:00     0.55  11627257723692907447\n",
       "2  2017-06-01 00:27:00     0.37  17903680561304213844\n",
       "3  2017-06-01 00:29:00     0.55  16109239769442553005\n",
       "4  2017-06-01 07:58:00     0.37  14200605875248379450"
      ]
     },
     "execution_count": 6,
     "metadata": {},
     "output_type": "execute_result"
    }
   ],
   "source": [
    "orders_log.head(5) # выводим первые 5 строк этой таблицы"
   ]
  },
  {
   "cell_type": "code",
   "execution_count": 7,
   "metadata": {
    "scrolled": true
   },
   "outputs": [
    {
     "name": "stdout",
     "output_type": "stream",
     "text": [
      "<class 'pandas.core.frame.DataFrame'>\n",
      "RangeIndex: 2542 entries, 0 to 2541\n",
      "Data columns (total 3 columns):\n",
      " #   Column     Non-Null Count  Dtype  \n",
      "---  ------     --------------  -----  \n",
      " 0   source_id  2542 non-null   int64  \n",
      " 1   dt         2542 non-null   object \n",
      " 2   costs      2542 non-null   float64\n",
      "dtypes: float64(1), int64(1), object(1)\n",
      "memory usage: 59.7+ KB\n"
     ]
    }
   ],
   "source": [
    "# выводим общую информацию по таблице с информацией по расходам на маркетинг\n",
    "costs = pd.read_csv('/Users/ruslan/Downloads/DataSets/costs.csv')\n",
    "costs.info()"
   ]
  },
  {
   "cell_type": "code",
   "execution_count": 8,
   "metadata": {
    "scrolled": true
   },
   "outputs": [
    {
     "data": {
      "text/html": [
       "<div>\n",
       "<style scoped>\n",
       "    .dataframe tbody tr th:only-of-type {\n",
       "        vertical-align: middle;\n",
       "    }\n",
       "\n",
       "    .dataframe tbody tr th {\n",
       "        vertical-align: top;\n",
       "    }\n",
       "\n",
       "    .dataframe thead th {\n",
       "        text-align: right;\n",
       "    }\n",
       "</style>\n",
       "<table border=\"1\" class=\"dataframe\">\n",
       "  <thead>\n",
       "    <tr style=\"text-align: right;\">\n",
       "      <th></th>\n",
       "      <th>source_id</th>\n",
       "      <th>dt</th>\n",
       "      <th>costs</th>\n",
       "    </tr>\n",
       "  </thead>\n",
       "  <tbody>\n",
       "    <tr>\n",
       "      <th>0</th>\n",
       "      <td>1</td>\n",
       "      <td>2017-06-01</td>\n",
       "      <td>75.20</td>\n",
       "    </tr>\n",
       "    <tr>\n",
       "      <th>1</th>\n",
       "      <td>1</td>\n",
       "      <td>2017-06-02</td>\n",
       "      <td>62.25</td>\n",
       "    </tr>\n",
       "    <tr>\n",
       "      <th>2</th>\n",
       "      <td>1</td>\n",
       "      <td>2017-06-03</td>\n",
       "      <td>36.53</td>\n",
       "    </tr>\n",
       "    <tr>\n",
       "      <th>3</th>\n",
       "      <td>1</td>\n",
       "      <td>2017-06-04</td>\n",
       "      <td>55.00</td>\n",
       "    </tr>\n",
       "    <tr>\n",
       "      <th>4</th>\n",
       "      <td>1</td>\n",
       "      <td>2017-06-05</td>\n",
       "      <td>57.08</td>\n",
       "    </tr>\n",
       "  </tbody>\n",
       "</table>\n",
       "</div>"
      ],
      "text/plain": [
       "   source_id          dt  costs\n",
       "0          1  2017-06-01  75.20\n",
       "1          1  2017-06-02  62.25\n",
       "2          1  2017-06-03  36.53\n",
       "3          1  2017-06-04  55.00\n",
       "4          1  2017-06-05  57.08"
      ]
     },
     "execution_count": 8,
     "metadata": {},
     "output_type": "execute_result"
    }
   ],
   "source": [
    "costs.head(5) # выводим первые 5 строк этой таблицы"
   ]
  },
  {
   "cell_type": "code",
   "execution_count": 9,
   "metadata": {
    "scrolled": true
   },
   "outputs": [
    {
     "data": {
      "text/plain": [
       "array([ 1,  2,  3,  4,  5,  9, 10])"
      ]
     },
     "execution_count": 9,
     "metadata": {},
     "output_type": "execute_result"
    }
   ],
   "source": [
    "costs['source_id'].unique()"
   ]
  },
  {
   "cell_type": "markdown",
   "metadata": {},
   "source": [
    "### ВЫВОД"
   ]
  },
  {
   "cell_type": "markdown",
   "metadata": {},
   "source": [
    "Данные не содержат пропусков.\n",
    "Столбцы, содержащие дату и время, необходимо привести к типу datetime, названия столбцов привести к нижнему регистру."
   ]
  },
  {
   "cell_type": "markdown",
   "metadata": {},
   "source": [
    "## ПОДГОТОВКА ДАННЫХ"
   ]
  },
  {
   "cell_type": "code",
   "execution_count": 10,
   "metadata": {
    "scrolled": true
   },
   "outputs": [
    {
     "data": {
      "text/plain": [
       "Index(['device', 'end_ts', 'source_id', 'start_ts', 'uid'], dtype='object')"
      ]
     },
     "execution_count": 10,
     "metadata": {},
     "output_type": "execute_result"
    }
   ],
   "source": [
    "# с помощью функции map() применяем нижний регистр строки ко всем столбцам таблицы\n",
    "visits_log.columns = map(str.lower, visits_log.columns)\n",
    "# заменяем пробел в названии столбцов\n",
    "visits_log = visits_log.rename(columns={'end ts' : 'end_ts', 'start ts': 'start_ts', 'source id': 'source_id'}) \n",
    "visits_log.columns # выведем все названия столбцов для проверки результата"
   ]
  },
  {
   "cell_type": "markdown",
   "metadata": {},
   "source": [
    "То же самое выполним для табицы с информацией о заказах"
   ]
  },
  {
   "cell_type": "code",
   "execution_count": 11,
   "metadata": {
    "scrolled": true
   },
   "outputs": [
    {
     "data": {
      "text/plain": [
       "Index(['buy_ts', 'revenue', 'uid'], dtype='object')"
      ]
     },
     "execution_count": 11,
     "metadata": {},
     "output_type": "execute_result"
    }
   ],
   "source": [
    "orders_log.columns = map(str.lower, orders_log.columns)\n",
    "orders_log = orders_log.rename(columns={'buy ts' : 'buy_ts'})\n",
    "orders_log.columns "
   ]
  },
  {
   "cell_type": "code",
   "execution_count": 12,
   "metadata": {
    "scrolled": true
   },
   "outputs": [],
   "source": [
    "# приводим столбцы, содержащие дату и время, к формату datetime\n",
    "visits_log['end_ts'] = pd.to_datetime(visits_log['end_ts'], format='%Y-%m-%dT%H:%M:%S')\n",
    "visits_log['start_ts'] = pd.to_datetime(visits_log['start_ts'], format='%Y-%m-%dT%H:%M:%S')\n",
    "orders_log['buy_ts'] = pd.to_datetime(orders_log['buy_ts'], format='%Y-%m-%dT%H:%M:%S')\n",
    "costs['dt'] = pd.to_datetime(costs['dt'], format='%Y-%m-%d')"
   ]
  },
  {
   "cell_type": "markdown",
   "metadata": {},
   "source": [
    "Проверим наличие дубликатов в таблицах"
   ]
  },
  {
   "cell_type": "code",
   "execution_count": 13,
   "metadata": {
    "scrolled": true
   },
   "outputs": [
    {
     "data": {
      "text/plain": [
       "0"
      ]
     },
     "execution_count": 13,
     "metadata": {},
     "output_type": "execute_result"
    }
   ],
   "source": [
    "visits_log.duplicated().sum()"
   ]
  },
  {
   "cell_type": "code",
   "execution_count": 14,
   "metadata": {
    "scrolled": true
   },
   "outputs": [
    {
     "data": {
      "text/plain": [
       "0"
      ]
     },
     "execution_count": 14,
     "metadata": {},
     "output_type": "execute_result"
    }
   ],
   "source": [
    "orders_log.duplicated().sum()"
   ]
  },
  {
   "cell_type": "code",
   "execution_count": 15,
   "metadata": {
    "scrolled": true
   },
   "outputs": [
    {
     "data": {
      "text/plain": [
       "0"
      ]
     },
     "execution_count": 15,
     "metadata": {},
     "output_type": "execute_result"
    }
   ],
   "source": [
    "costs.duplicated().sum()"
   ]
  },
  {
   "cell_type": "markdown",
   "metadata": {},
   "source": [
    "Проверим, не выходят ли пользовательские сессии за граница рассматриваемого периода с июня 2017 года по май 2018 года."
   ]
  },
  {
   "cell_type": "code",
   "execution_count": 16,
   "metadata": {
    "scrolled": true
   },
   "outputs": [
    {
     "data": {
      "text/plain": [
       "Timestamp('2017-06-01 00:01:00')"
      ]
     },
     "execution_count": 16,
     "metadata": {},
     "output_type": "execute_result"
    }
   ],
   "source": [
    "visits_log['start_ts'].min()"
   ]
  },
  {
   "cell_type": "code",
   "execution_count": 17,
   "metadata": {
    "scrolled": true
   },
   "outputs": [
    {
     "data": {
      "text/plain": [
       "Timestamp('2018-05-31 23:59:00')"
      ]
     },
     "execution_count": 17,
     "metadata": {},
     "output_type": "execute_result"
    }
   ],
   "source": [
    "visits_log['start_ts'].max()"
   ]
  },
  {
   "cell_type": "code",
   "execution_count": 18,
   "metadata": {
    "scrolled": true
   },
   "outputs": [
    {
     "data": {
      "text/plain": [
       "Timestamp('2017-06-01 00:02:00')"
      ]
     },
     "execution_count": 18,
     "metadata": {},
     "output_type": "execute_result"
    }
   ],
   "source": [
    "visits_log['end_ts'].min()"
   ]
  },
  {
   "cell_type": "code",
   "execution_count": 19,
   "metadata": {
    "scrolled": true
   },
   "outputs": [
    {
     "data": {
      "text/plain": [
       "Timestamp('2018-06-01 01:26:00')"
      ]
     },
     "execution_count": 19,
     "metadata": {},
     "output_type": "execute_result"
    }
   ],
   "source": [
    "visits_log['end_ts'].max()"
   ]
  },
  {
   "cell_type": "code",
   "execution_count": 20,
   "metadata": {
    "scrolled": true
   },
   "outputs": [
    {
     "data": {
      "text/plain": [
       "Timestamp('2017-06-01 00:10:00')"
      ]
     },
     "execution_count": 20,
     "metadata": {},
     "output_type": "execute_result"
    }
   ],
   "source": [
    "orders_log['buy_ts'].min()"
   ]
  },
  {
   "cell_type": "code",
   "execution_count": 21,
   "metadata": {
    "scrolled": true
   },
   "outputs": [
    {
     "data": {
      "text/plain": [
       "Timestamp('2018-06-01 00:02:00')"
      ]
     },
     "execution_count": 21,
     "metadata": {},
     "output_type": "execute_result"
    }
   ],
   "source": [
    "orders_log['buy_ts'].max()"
   ]
  },
  {
   "cell_type": "code",
   "execution_count": 22,
   "metadata": {
    "scrolled": true
   },
   "outputs": [
    {
     "data": {
      "text/plain": [
       "Timestamp('2017-06-01 00:00:00')"
      ]
     },
     "execution_count": 22,
     "metadata": {},
     "output_type": "execute_result"
    }
   ],
   "source": [
    "costs['dt'].min()"
   ]
  },
  {
   "cell_type": "code",
   "execution_count": 23,
   "metadata": {
    "scrolled": true
   },
   "outputs": [
    {
     "data": {
      "text/plain": [
       "Timestamp('2018-05-31 00:00:00')"
      ]
     },
     "execution_count": 23,
     "metadata": {},
     "output_type": "execute_result"
    }
   ],
   "source": [
    "costs['dt'].max()"
   ]
  },
  {
   "cell_type": "markdown",
   "metadata": {},
   "source": [
    "Самая поздняя дата завершения пользовательской сессии, а так же дата совершения покупки выходят за пределы рассматриваемого периода. Отбросим ненужные данные."
   ]
  },
  {
   "cell_type": "code",
   "execution_count": 24,
   "metadata": {
    "scrolled": true
   },
   "outputs": [],
   "source": [
    "visits_log = visits_log.query('end_ts < \"2018-06-01\"')"
   ]
  },
  {
   "cell_type": "code",
   "execution_count": 25,
   "metadata": {
    "scrolled": true
   },
   "outputs": [],
   "source": [
    "orders_log = orders_log.query('buy_ts < \"2018-06-01\"')"
   ]
  },
  {
   "cell_type": "markdown",
   "metadata": {},
   "source": [
    "Рассмотрим столбец с категорией устройства (*device*) таблицы с информацией о посещениях сайта, посчитаем, как распределено количество уникальных пользователей."
   ]
  },
  {
   "cell_type": "code",
   "execution_count": 26,
   "metadata": {
    "scrolled": true
   },
   "outputs": [
    {
     "data": {
      "text/html": [
       "<div>\n",
       "<style scoped>\n",
       "    .dataframe tbody tr th:only-of-type {\n",
       "        vertical-align: middle;\n",
       "    }\n",
       "\n",
       "    .dataframe tbody tr th {\n",
       "        vertical-align: top;\n",
       "    }\n",
       "\n",
       "    .dataframe thead th {\n",
       "        text-align: right;\n",
       "    }\n",
       "</style>\n",
       "<table border=\"1\" class=\"dataframe\">\n",
       "  <thead>\n",
       "    <tr style=\"text-align: right;\">\n",
       "      <th></th>\n",
       "      <th>device</th>\n",
       "      <th>uid</th>\n",
       "    </tr>\n",
       "  </thead>\n",
       "  <tbody>\n",
       "    <tr>\n",
       "      <th>0</th>\n",
       "      <td>desktop</td>\n",
       "      <td>164517</td>\n",
       "    </tr>\n",
       "    <tr>\n",
       "      <th>1</th>\n",
       "      <td>touch</td>\n",
       "      <td>71343</td>\n",
       "    </tr>\n",
       "  </tbody>\n",
       "</table>\n",
       "</div>"
      ],
      "text/plain": [
       "    device     uid\n",
       "0  desktop  164517\n",
       "1    touch   71343"
      ]
     },
     "execution_count": 26,
     "metadata": {},
     "output_type": "execute_result"
    }
   ],
   "source": [
    "visits_log.groupby('device').agg({'uid': 'nunique'}).reset_index()"
   ]
  },
  {
   "cell_type": "markdown",
   "metadata": {},
   "source": [
    "С компьютера на сайт заходит в 2 раза больше посетителей. Т.к. варианта всего два, можем заменить тип данных этого столбца на категориальный."
   ]
  },
  {
   "cell_type": "code",
   "execution_count": 27,
   "metadata": {
    "scrolled": true
   },
   "outputs": [],
   "source": [
    "visits_log['device'] = visits_log['device'].astype('category')"
   ]
  },
  {
   "cell_type": "markdown",
   "metadata": {},
   "source": [
    "Рассмотрим столбец с источниками трафика (*source_id*) таблицы с информацией о посещениях сайта, посчитаем, как распределено количество уникальных пользователей по ним."
   ]
  },
  {
   "cell_type": "code",
   "execution_count": 28,
   "metadata": {
    "scrolled": true
   },
   "outputs": [
    {
     "data": {
      "text/html": [
       "<div>\n",
       "<style scoped>\n",
       "    .dataframe tbody tr th:only-of-type {\n",
       "        vertical-align: middle;\n",
       "    }\n",
       "\n",
       "    .dataframe tbody tr th {\n",
       "        vertical-align: top;\n",
       "    }\n",
       "\n",
       "    .dataframe thead th {\n",
       "        text-align: right;\n",
       "    }\n",
       "</style>\n",
       "<table border=\"1\" class=\"dataframe\">\n",
       "  <thead>\n",
       "    <tr style=\"text-align: right;\">\n",
       "      <th></th>\n",
       "      <th>uid</th>\n",
       "    </tr>\n",
       "    <tr>\n",
       "      <th>source_id</th>\n",
       "      <th></th>\n",
       "    </tr>\n",
       "  </thead>\n",
       "  <tbody>\n",
       "    <tr>\n",
       "      <th>1</th>\n",
       "      <td>18998</td>\n",
       "    </tr>\n",
       "    <tr>\n",
       "      <th>2</th>\n",
       "      <td>26244</td>\n",
       "    </tr>\n",
       "    <tr>\n",
       "      <th>3</th>\n",
       "      <td>74755</td>\n",
       "    </tr>\n",
       "    <tr>\n",
       "      <th>4</th>\n",
       "      <td>83523</td>\n",
       "    </tr>\n",
       "    <tr>\n",
       "      <th>5</th>\n",
       "      <td>56972</td>\n",
       "    </tr>\n",
       "    <tr>\n",
       "      <th>6</th>\n",
       "      <td>6</td>\n",
       "    </tr>\n",
       "    <tr>\n",
       "      <th>7</th>\n",
       "      <td>34</td>\n",
       "    </tr>\n",
       "    <tr>\n",
       "      <th>9</th>\n",
       "      <td>9264</td>\n",
       "    </tr>\n",
       "    <tr>\n",
       "      <th>10</th>\n",
       "      <td>8066</td>\n",
       "    </tr>\n",
       "  </tbody>\n",
       "</table>\n",
       "</div>"
      ],
      "text/plain": [
       "             uid\n",
       "source_id       \n",
       "1          18998\n",
       "2          26244\n",
       "3          74755\n",
       "4          83523\n",
       "5          56972\n",
       "6              6\n",
       "7             34\n",
       "9           9264\n",
       "10          8066"
      ]
     },
     "execution_count": 28,
     "metadata": {},
     "output_type": "execute_result"
    }
   ],
   "source": [
    "visits_log.groupby('source_id').agg({'uid': 'nunique'})"
   ]
  },
  {
   "cell_type": "markdown",
   "metadata": {},
   "source": [
    "Построим для наглядности график."
   ]
  },
  {
   "cell_type": "code",
   "execution_count": 29,
   "metadata": {
    "scrolled": false
   },
   "outputs": [
    {
     "data": {
      "image/png": "[encoded data removed]",
      "text/plain": [
       "<Figure size 1440x720 with 1 Axes>"
      ]
     },
     "metadata": {},
     "output_type": "display_data"
    }
   ],
   "source": [
    "import matplotlib.pyplot as plt\n",
    "plt.style.use('ggplot') # выбираем оформление в стиле ggplot\n",
    "plt.rcParams.update({'font.size': 18}) # размер шрифта на графике\n",
    "\n",
    "visits_log.groupby('source_id').agg({'uid': 'nunique'}).reset_index().plot.bar(\n",
    "    \n",
    "    x='source_id',\n",
    "    y='uid', \n",
    "    grid=True,\n",
    "    figsize=(20,10)\n",
    ")\n",
    "plt.title('Распределение уникальных пользователей по источникам трафика')\n",
    "plt.ylabel('Количество пользователей')\n",
    "plt.xlabel('Источник')\n",
    "plt.xticks(rotation=360)\n",
    "plt.legend().remove()\n",
    "plt.show()"
   ]
  },
  {
   "cell_type": "markdown",
   "metadata": {},
   "source": [
    "По графику видно, что источники трафика 6 и 7 привлекают слишком мало пользователей, от них точно стоит отказаться. Больше всего посетителей \"приходят\" через 4, 3 и 5 источники (в порядке убывания соответственно)."
   ]
  },
  {
   "cell_type": "markdown",
   "metadata": {},
   "source": [
    "### ВЫВОД"
   ]
  },
  {
   "cell_type": "markdown",
   "metadata": {},
   "source": [
    "Дубликаты не обнаружены, типы данных и названия столбцов изменены, отброшены данные, не подходящие под рассматриваемый период, проанализированы источники трафика."
   ]
  },
  {
   "cell_type": "markdown",
   "metadata": {},
   "source": [
    "## МЕТРИКИ И ГРАФИКИ"
   ]
  },
  {
   "cell_type": "markdown",
   "metadata": {},
   "source": [
    "### ПРОДУКТОВЫЕ МЕТРИКИ"
   ]
  },
  {
   "cell_type": "markdown",
   "metadata": {},
   "source": [
    "Чтобы посчитать количество уникальных пользователей за день, неделю и месяц, выделим в отдельные столбцы год, месяц и неделю, а также полную дату."
   ]
  },
  {
   "cell_type": "code",
   "execution_count": 30,
   "metadata": {
    "scrolled": true
   },
   "outputs": [
    {
     "data": {
      "text/html": [
       "<div>\n",
       "<style scoped>\n",
       "    .dataframe tbody tr th:only-of-type {\n",
       "        vertical-align: middle;\n",
       "    }\n",
       "\n",
       "    .dataframe tbody tr th {\n",
       "        vertical-align: top;\n",
       "    }\n",
       "\n",
       "    .dataframe thead th {\n",
       "        text-align: right;\n",
       "    }\n",
       "</style>\n",
       "<table border=\"1\" class=\"dataframe\">\n",
       "  <thead>\n",
       "    <tr style=\"text-align: right;\">\n",
       "      <th></th>\n",
       "      <th>device</th>\n",
       "      <th>end_ts</th>\n",
       "      <th>source_id</th>\n",
       "      <th>start_ts</th>\n",
       "      <th>uid</th>\n",
       "      <th>date</th>\n",
       "      <th>year</th>\n",
       "      <th>month</th>\n",
       "      <th>week</th>\n",
       "      <th>day</th>\n",
       "    </tr>\n",
       "  </thead>\n",
       "  <tbody>\n",
       "    <tr>\n",
       "      <th>0</th>\n",
       "      <td>touch</td>\n",
       "      <td>2017-12-20 17:38:00</td>\n",
       "      <td>4</td>\n",
       "      <td>2017-12-20 17:20:00</td>\n",
       "      <td>16879256277535980062</td>\n",
       "      <td>2017-12-20</td>\n",
       "      <td>2017</td>\n",
       "      <td>12</td>\n",
       "      <td>51</td>\n",
       "      <td>20</td>\n",
       "    </tr>\n",
       "    <tr>\n",
       "      <th>1</th>\n",
       "      <td>desktop</td>\n",
       "      <td>2018-02-19 17:21:00</td>\n",
       "      <td>2</td>\n",
       "      <td>2018-02-19 16:53:00</td>\n",
       "      <td>104060357244891740</td>\n",
       "      <td>2018-02-19</td>\n",
       "      <td>2018</td>\n",
       "      <td>2</td>\n",
       "      <td>8</td>\n",
       "      <td>19</td>\n",
       "    </tr>\n",
       "    <tr>\n",
       "      <th>2</th>\n",
       "      <td>touch</td>\n",
       "      <td>2017-07-01 01:54:00</td>\n",
       "      <td>5</td>\n",
       "      <td>2017-07-01 01:54:00</td>\n",
       "      <td>7459035603376831527</td>\n",
       "      <td>2017-07-01</td>\n",
       "      <td>2017</td>\n",
       "      <td>7</td>\n",
       "      <td>26</td>\n",
       "      <td>1</td>\n",
       "    </tr>\n",
       "    <tr>\n",
       "      <th>3</th>\n",
       "      <td>desktop</td>\n",
       "      <td>2018-05-20 11:23:00</td>\n",
       "      <td>9</td>\n",
       "      <td>2018-05-20 10:59:00</td>\n",
       "      <td>16174680259334210214</td>\n",
       "      <td>2018-05-20</td>\n",
       "      <td>2018</td>\n",
       "      <td>5</td>\n",
       "      <td>20</td>\n",
       "      <td>20</td>\n",
       "    </tr>\n",
       "    <tr>\n",
       "      <th>4</th>\n",
       "      <td>desktop</td>\n",
       "      <td>2017-12-27 14:06:00</td>\n",
       "      <td>3</td>\n",
       "      <td>2017-12-27 14:06:00</td>\n",
       "      <td>9969694820036681168</td>\n",
       "      <td>2017-12-27</td>\n",
       "      <td>2017</td>\n",
       "      <td>12</td>\n",
       "      <td>52</td>\n",
       "      <td>27</td>\n",
       "    </tr>\n",
       "  </tbody>\n",
       "</table>\n",
       "</div>"
      ],
      "text/plain": [
       "    device              end_ts  source_id            start_ts  \\\n",
       "0    touch 2017-12-20 17:38:00          4 2017-12-20 17:20:00   \n",
       "1  desktop 2018-02-19 17:21:00          2 2018-02-19 16:53:00   \n",
       "2    touch 2017-07-01 01:54:00          5 2017-07-01 01:54:00   \n",
       "3  desktop 2018-05-20 11:23:00          9 2018-05-20 10:59:00   \n",
       "4  desktop 2017-12-27 14:06:00          3 2017-12-27 14:06:00   \n",
       "\n",
       "                    uid        date  year  month  week  day  \n",
       "0  16879256277535980062  2017-12-20  2017     12    51   20  \n",
       "1    104060357244891740  2018-02-19  2018      2     8   19  \n",
       "2   7459035603376831527  2017-07-01  2017      7    26    1  \n",
       "3  16174680259334210214  2018-05-20  2018      5    20   20  \n",
       "4   9969694820036681168  2017-12-27  2017     12    52   27  "
      ]
     },
     "execution_count": 30,
     "metadata": {},
     "output_type": "execute_result"
    }
   ],
   "source": [
    "# с помощью метода dt выделяем из даты start_ts дату, год, месяц, неделю и день и добавляем новые столбцы\n",
    "visits_log['date'] = visits_log['start_ts'].dt.date\n",
    "visits_log['year'] = visits_log['start_ts'].dt.year\n",
    "visits_log['month'] = visits_log['start_ts'].dt.month\n",
    "visits_log['week'] = visits_log['start_ts'].dt.week\n",
    "visits_log['day'] = visits_log['start_ts'].dt.day\n",
    "visits_log.head() # выведем первые строки получившейся таблицы"
   ]
  },
  {
   "cell_type": "markdown",
   "metadata": {},
   "source": [
    "Теперь посчитаем метрики."
   ]
  },
  {
   "cell_type": "code",
   "execution_count": 31,
   "metadata": {
    "scrolled": true
   },
   "outputs": [
    {
     "name": "stdout",
     "output_type": "stream",
     "text": [
      "Количество уникальных пользователей в день в среднем: 907\n",
      "Количество уникальных пользователей в неделю в среднем: 5716\n",
      "Количество уникальных пользователей в месяц в среднем: 23227\n"
     ]
    }
   ],
   "source": [
    "dau_mean = visits_log.groupby('date').agg({'uid': 'nunique'}).mean()\n",
    "wau_mean = visits_log.groupby(['year', 'week']).agg({'uid': 'nunique'}).mean()\n",
    "mau_mean = visits_log.groupby(['year', 'month']).agg({'uid': 'nunique'}).mean()\n",
    "print('Количество уникальных пользователей в день в среднем:', int(dau_mean))\n",
    "print('Количество уникальных пользователей в неделю в среднем:', int(wau_mean))\n",
    "print('Количество уникальных пользователей в месяц в среднем:', int(mau_mean))"
   ]
  },
  {
   "cell_type": "markdown",
   "metadata": {},
   "source": [
    "Отобразим изменения метрик во времени на графике."
   ]
  },
  {
   "cell_type": "code",
   "execution_count": 32,
   "metadata": {
    "scrolled": true
   },
   "outputs": [],
   "source": [
    "dau = visits_log.groupby('date').agg({'uid': 'nunique'}).reset_index()\n",
    "wau = visits_log.groupby(['year', 'week']).agg({'uid': 'nunique'}).reset_index()\n",
    "mau = visits_log.groupby(['year', 'month']).agg({'uid': 'nunique'}).reset_index()"
   ]
  },
  {
   "cell_type": "code",
   "execution_count": 33,
   "metadata": {
    "scrolled": false
   },
   "outputs": [
    {
     "data": {
      "image/png": "[encoded data removed]",
      "text/plain": [
       "<Figure size 1440x720 with 1 Axes>"
      ]
     },
     "metadata": {},
     "output_type": "display_data"
    }
   ],
   "source": [
    "import matplotlib.pyplot as plt # импортируем библиотеку mathlib\n",
    "\n",
    "plt.style.use('ggplot') # выбираем оформление в стиле ggplot\n",
    "plt.rcParams.update({'font.size': 18}) # размер шрифта на графике\n",
    "\n",
    "dau.plot(\n",
    "    x='date',\n",
    "    y='uid', \n",
    "    grid=True,\n",
    "    figsize=(20,10)\n",
    ")\n",
    "\n",
    "plt.title('Количество уникальных пользователей в день')\n",
    "plt.ylabel('Количество пользователей')\n",
    "plt.xlabel('День')\n",
    "plt.xticks(rotation=360)\n",
    "plt.legend().remove()\n",
    "plt.show()"
   ]
  },
  {
   "cell_type": "markdown",
   "metadata": {},
   "source": [
    "По графику видно, что количество уникальных пользователей резко возрастает ближе к декабрю, скорее всего это объясняется предновогодним предпраздничным временем."
   ]
  },
  {
   "cell_type": "code",
   "execution_count": 34,
   "metadata": {
    "scrolled": false
   },
   "outputs": [
    {
     "data": {
      "image/png": "[encoded data removed]",
      "text/plain": [
       "<Figure size 1440x720 with 1 Axes>"
      ]
     },
     "metadata": {},
     "output_type": "display_data"
    }
   ],
   "source": [
    "import datetime\n",
    "wau['wau_week'] = visits_log['start_ts'].dt.strftime('%Y-%m')\n",
    "\n",
    "wau.plot(\n",
    "    x='wau_week',\n",
    "    y='uid', \n",
    "    grid=True,\n",
    "    figsize=(20,10)\n",
    ")\n",
    "\n",
    "plt.title('Количество уникальных пользователей в неделю')\n",
    "plt.ylabel('Количество пользователей')\n",
    "plt.xlabel('Неделя')\n",
    "plt.xticks(rotation=360)\n",
    "plt.legend().remove()\n",
    "plt.show()"
   ]
  },
  {
   "cell_type": "markdown",
   "metadata": {},
   "source": [
    "Недельный график повторяет тренды дневного."
   ]
  },
  {
   "cell_type": "code",
   "execution_count": 35,
   "metadata": {
    "scrolled": false
   },
   "outputs": [
    {
     "data": {
      "image/png": "[encoded data removed]",
      "text/plain": [
       "<Figure size 1440x720 with 1 Axes>"
      ]
     },
     "metadata": {},
     "output_type": "display_data"
    }
   ],
   "source": [
    "mau['mau_week'] = visits_log['start_ts'].dt.strftime('%Y-%m')\n",
    "mau.plot(\n",
    "    x='mau_week',\n",
    "    y='uid', \n",
    "    grid=True,\n",
    "    figsize=(20,10)\n",
    ")\n",
    "\n",
    "plt.title('Количество уникальных пользователей в месяц')\n",
    "plt.ylabel('Количество пользователей')\n",
    "plt.xlabel('Месяц')\n",
    "plt.xticks(rotation=360)\n",
    "plt.legend().remove()\n",
    "plt.show()"
   ]
  },
  {
   "cell_type": "markdown",
   "metadata": {},
   "source": [
    "А вот на графике, отображающем количество уникальных посетителей за месяц, видим большой рост после июля 2017 года, возможно в это время была проведена какая-то маркетинговая кампания, которая обеспечила большой приток новых посетителей."
   ]
  },
  {
   "cell_type": "markdown",
   "metadata": {},
   "source": [
    "Определим, сколько раз за день пользователи в среднем заходят на сайт, для этого вычислим *sticky factor*."
   ]
  },
  {
   "cell_type": "code",
   "execution_count": 36,
   "metadata": {
    "scrolled": true
   },
   "outputs": [
    {
     "name": "stdout",
     "output_type": "stream",
     "text": [
      "Коэффициент вовлеченности пользователей за день 15\n"
     ]
    }
   ],
   "source": [
    "sf = (dau_mean / wau_mean) * 100\n",
    "print('Коэффициент вовлеченности пользователей за день', int(sf))"
   ]
  },
  {
   "cell_type": "markdown",
   "metadata": {},
   "source": [
    "Рассчитав *sticky factor* выяснили, что у сайта хороший уровень вовлеченности(активности) аудитории "
   ]
  },
  {
   "cell_type": "markdown",
   "metadata": {},
   "source": [
    "Далее выясним, сколько времени пользователи проводят на сайте, рассчитаем продолжительность типичной пользовательской сессии за весь период."
   ]
  },
  {
   "cell_type": "code",
   "execution_count": 37,
   "metadata": {
    "scrolled": true
   },
   "outputs": [],
   "source": [
    "sessions_per_user = visits_log.groupby(['year', 'month']).agg({'uid': ['count', 'nunique']})"
   ]
  },
  {
   "cell_type": "code",
   "execution_count": 38,
   "metadata": {
    "scrolled": false
   },
   "outputs": [
    {
     "data": {
      "text/html": [
       "<div>\n",
       "<style scoped>\n",
       "    .dataframe tbody tr th:only-of-type {\n",
       "        vertical-align: middle;\n",
       "    }\n",
       "\n",
       "    .dataframe tbody tr th {\n",
       "        vertical-align: top;\n",
       "    }\n",
       "\n",
       "    .dataframe thead th {\n",
       "        text-align: right;\n",
       "    }\n",
       "</style>\n",
       "<table border=\"1\" class=\"dataframe\">\n",
       "  <thead>\n",
       "    <tr style=\"text-align: right;\">\n",
       "      <th></th>\n",
       "      <th></th>\n",
       "      <th>n_sessions</th>\n",
       "      <th>n_users</th>\n",
       "      <th>sessions_per_user</th>\n",
       "    </tr>\n",
       "    <tr>\n",
       "      <th>year</th>\n",
       "      <th>month</th>\n",
       "      <th></th>\n",
       "      <th></th>\n",
       "      <th></th>\n",
       "    </tr>\n",
       "  </thead>\n",
       "  <tbody>\n",
       "    <tr>\n",
       "      <th rowspan=\"7\" valign=\"top\">2017</th>\n",
       "      <th>6</th>\n",
       "      <td>16505</td>\n",
       "      <td>13259</td>\n",
       "      <td>1.244815</td>\n",
       "    </tr>\n",
       "    <tr>\n",
       "      <th>7</th>\n",
       "      <td>17828</td>\n",
       "      <td>14183</td>\n",
       "      <td>1.256998</td>\n",
       "    </tr>\n",
       "    <tr>\n",
       "      <th>8</th>\n",
       "      <td>14355</td>\n",
       "      <td>11631</td>\n",
       "      <td>1.234202</td>\n",
       "    </tr>\n",
       "    <tr>\n",
       "      <th>9</th>\n",
       "      <td>23907</td>\n",
       "      <td>18975</td>\n",
       "      <td>1.259921</td>\n",
       "    </tr>\n",
       "    <tr>\n",
       "      <th>10</th>\n",
       "      <td>37903</td>\n",
       "      <td>29692</td>\n",
       "      <td>1.276539</td>\n",
       "    </tr>\n",
       "    <tr>\n",
       "      <th>11</th>\n",
       "      <td>43969</td>\n",
       "      <td>32797</td>\n",
       "      <td>1.340641</td>\n",
       "    </tr>\n",
       "    <tr>\n",
       "      <th>12</th>\n",
       "      <td>41983</td>\n",
       "      <td>31557</td>\n",
       "      <td>1.330386</td>\n",
       "    </tr>\n",
       "    <tr>\n",
       "      <th rowspan=\"5\" valign=\"top\">2018</th>\n",
       "      <th>1</th>\n",
       "      <td>36939</td>\n",
       "      <td>28716</td>\n",
       "      <td>1.286356</td>\n",
       "    </tr>\n",
       "    <tr>\n",
       "      <th>2</th>\n",
       "      <td>37182</td>\n",
       "      <td>28749</td>\n",
       "      <td>1.293332</td>\n",
       "    </tr>\n",
       "    <tr>\n",
       "      <th>3</th>\n",
       "      <td>35679</td>\n",
       "      <td>27473</td>\n",
       "      <td>1.298693</td>\n",
       "    </tr>\n",
       "    <tr>\n",
       "      <th>4</th>\n",
       "      <td>26515</td>\n",
       "      <td>21008</td>\n",
       "      <td>1.262138</td>\n",
       "    </tr>\n",
       "    <tr>\n",
       "      <th>5</th>\n",
       "      <td>26623</td>\n",
       "      <td>20694</td>\n",
       "      <td>1.286508</td>\n",
       "    </tr>\n",
       "  </tbody>\n",
       "</table>\n",
       "</div>"
      ],
      "text/plain": [
       "            n_sessions  n_users  sessions_per_user\n",
       "year month                                        \n",
       "2017 6           16505    13259           1.244815\n",
       "     7           17828    14183           1.256998\n",
       "     8           14355    11631           1.234202\n",
       "     9           23907    18975           1.259921\n",
       "     10          37903    29692           1.276539\n",
       "     11          43969    32797           1.340641\n",
       "     12          41983    31557           1.330386\n",
       "2018 1           36939    28716           1.286356\n",
       "     2           37182    28749           1.293332\n",
       "     3           35679    27473           1.298693\n",
       "     4           26515    21008           1.262138\n",
       "     5           26623    20694           1.286508"
      ]
     },
     "execution_count": 38,
     "metadata": {},
     "output_type": "execute_result"
    }
   ],
   "source": [
    "sessions_per_user.columns = ['n_sessions', 'n_users'] # переименовываем столбцы\n",
    "# считаем и добавляем столбец с продолжительностью сессии на пользователя за каждый месяц\n",
    "sessions_per_user['sessions_per_user'] = (\n",
    "    sessions_per_user['n_sessions'] / sessions_per_user['n_users'] \n",
    ")\n",
    "sessions_per_user"
   ]
  },
  {
   "cell_type": "markdown",
   "metadata": {},
   "source": [
    "Рассчитаем продолжительность сессии в секундах на каждого пользователя."
   ]
  },
  {
   "cell_type": "code",
   "execution_count": 39,
   "metadata": {
    "scrolled": true
   },
   "outputs": [
    {
     "name": "stdout",
     "output_type": "stream",
     "text": [
      "643.4657028058812\n"
     ]
    }
   ],
   "source": [
    "visits_log['session_duration_sec'] = (\n",
    "    visits_log['end_ts'] - visits_log['start_ts']\n",
    ").dt.seconds\n",
    "print(visits_log['session_duration_sec'].mean()) "
   ]
  },
  {
   "cell_type": "markdown",
   "metadata": {},
   "source": [
    "Получили среднее значение - 643,5 секунды. Посмотрим на гистограмму продолжительности сессий и посмотрим, на сколько такой результат соответствует действительности."
   ]
  },
  {
   "cell_type": "code",
   "execution_count": 40,
   "metadata": {
    "scrolled": false
   },
   "outputs": [
    {
     "data": {
      "image/png": "[encoded data removed]",
      "text/plain": [
       "<Figure size 1080x360 with 1 Axes>"
      ]
     },
     "metadata": {},
     "output_type": "display_data"
    }
   ],
   "source": [
    "visits_log['session_duration_sec'].hist(bins=50, figsize=(15,5) )\n",
    "plt.title('Распределение пользовательской сессии в секундах')\n",
    "plt.ylabel('Количество пользователей')\n",
    "plt.xlabel('Продолжительность сессии')\n",
    "plt.show()"
   ]
  },
  {
   "cell_type": "markdown",
   "metadata": {},
   "source": [
    "Распределение далеко от нормального, для того, чтобы узнать типичную длину пользовательской сессии лучше вычислить моду:"
   ]
  },
  {
   "cell_type": "code",
   "execution_count": 41,
   "metadata": {
    "scrolled": true
   },
   "outputs": [
    {
     "name": "stdout",
     "output_type": "stream",
     "text": [
      "60\n"
     ]
    }
   ],
   "source": [
    "print(visits_log['session_duration_sec'].mode()[0]) "
   ]
  },
  {
   "cell_type": "markdown",
   "metadata": {},
   "source": [
    "Средняя пользовательская сессия длится 60 секунд, всего 1 минут, это можно объяснить тем, что посетители приходят уже зная, что им нужно, открывают нужную страницу и совершают покупку или же наоборот не совершают и закрывают страницу."
   ]
  },
  {
   "cell_type": "markdown",
   "metadata": {},
   "source": [
    "Нам нужно рассчитать *Retention Rate*, поэтому будем исследовать поведение людей, которых объединяет время первого визита на сайт. Т.к. посещения сайта Яндекс.Афиши не слишком динамичное за рассчетный период возьмем месяц."
   ]
  },
  {
   "cell_type": "code",
   "execution_count": 42,
   "metadata": {
    "scrolled": false
   },
   "outputs": [
    {
     "name": "stdout",
     "output_type": "stream",
     "text": [
      "cohort_lifetime        0         1         2         3         4         5   \\\n",
      "first_activity_month                                                          \n",
      "2017-06-01            1.0  0.078664  0.053775  0.061392  0.068557  0.071423   \n",
      "2017-07-01            1.0  0.056088  0.051294  0.056164  0.058219  0.048174   \n",
      "2017-08-01            1.0  0.076908  0.062862  0.062764  0.050093  0.044004   \n",
      "2017-09-01            1.0  0.085489  0.069205  0.050706  0.039392  0.037835   \n",
      "2017-10-01            1.0  0.078608  0.052239  0.038958  0.034261  0.032221   \n",
      "2017-11-01            1.0  0.078281  0.044113  0.038682  0.033727  0.023415   \n",
      "2017-12-01            1.0  0.055802  0.037993  0.031107  0.020263  0.019036   \n",
      "2018-01-01            1.0  0.059715  0.039339  0.024973  0.020244       NaN   \n",
      "2018-02-01            1.0  0.057080  0.025454  0.020093       NaN       NaN   \n",
      "2018-03-01            1.0  0.041818  0.027053       NaN       NaN       NaN   \n",
      "2018-04-01            1.0  0.048380       NaN       NaN       NaN       NaN   \n",
      "2018-05-01            1.0       NaN       NaN       NaN       NaN       NaN   \n",
      "\n",
      "cohort_lifetime             6         7         8         9         10  \\\n",
      "first_activity_month                                                     \n",
      "2017-06-01            0.061015  0.057772  0.052342  0.050833  0.040652   \n",
      "2017-07-01            0.045358  0.045738  0.038813  0.028615  0.027473   \n",
      "2017-08-01            0.036342  0.039485  0.027895  0.026029       NaN   \n",
      "2017-09-01            0.035860  0.024186  0.022809       NaN       NaN   \n",
      "2017-10-01            0.021365  0.020364       NaN       NaN       NaN   \n",
      "2017-11-01            0.021800       NaN       NaN       NaN       NaN   \n",
      "2017-12-01                 NaN       NaN       NaN       NaN       NaN   \n",
      "2018-01-01                 NaN       NaN       NaN       NaN       NaN   \n",
      "2018-02-01                 NaN       NaN       NaN       NaN       NaN   \n",
      "2018-03-01                 NaN       NaN       NaN       NaN       NaN   \n",
      "2018-04-01                 NaN       NaN       NaN       NaN       NaN   \n",
      "2018-05-01                 NaN       NaN       NaN       NaN       NaN   \n",
      "\n",
      "cohort_lifetime             11  \n",
      "first_activity_month            \n",
      "2017-06-01            0.044951  \n",
      "2017-07-01                 NaN  \n",
      "2017-08-01                 NaN  \n",
      "2017-09-01                 NaN  \n",
      "2017-10-01                 NaN  \n",
      "2017-11-01                 NaN  \n",
      "2017-12-01                 NaN  \n",
      "2018-01-01                 NaN  \n",
      "2018-02-01                 NaN  \n",
      "2018-03-01                 NaN  \n",
      "2018-04-01                 NaN  \n",
      "2018-05-01                 NaN  \n"
     ]
    }
   ],
   "source": [
    "visits_log['start_ts'] = pd.to_datetime(visits_log['start_ts'])\n",
    "first_activity_date = visits_log.groupby(['uid'])['start_ts'].min()\n",
    "first_activity_date.name = 'first_activity_date'\n",
    "visits_log = visits_log.merge(first_activity_date, on='uid')\n",
    "\n",
    "visits_log['month'] = visits_log['start_ts'].astype('datetime64[M]')\n",
    "\n",
    "visits_log['first_activity_month'] = visits_log['first_activity_date'].astype('datetime64[M]')\n",
    "\n",
    "visits_log['cohort_lifetime'] = (\n",
    "    visits_log['month'] - visits_log['first_activity_month']\n",
    ")\n",
    "\n",
    "visits_log['cohort_lifetime'] = visits_log['cohort_lifetime'] / np.timedelta64(1, 'M')\n",
    "visits_log['cohort_lifetime'] = visits_log['cohort_lifetime'].round().astype('int')\n",
    "\n",
    "cohorts = visits_log.groupby(['first_activity_month', 'cohort_lifetime']).agg(\n",
    "    {'uid': 'nunique'}\n",
    ").reset_index()\n",
    "\n",
    "initial_users_count = cohorts[cohorts['cohort_lifetime'] == 0][\n",
    "    ['first_activity_month', 'uid']\n",
    "]\n",
    "\n",
    "initial_users_count = initial_users_count.rename(columns={'uid': 'cohort_users'})\n",
    "\n",
    "cohorts = cohorts.merge(initial_users_count, on='first_activity_month')\n",
    "\n",
    "cohorts['retention'] = cohorts['uid'] / cohorts['cohort_users']\n",
    "\n",
    "cohorts['first_activity_month'] = cohorts['first_activity_month'].astype('str')\n",
    "\n",
    "retention_pivot = cohorts.pivot_table(\n",
    "    index ='first_activity_month',\n",
    "    columns='cohort_lifetime',\n",
    "    values='retention',\n",
    "    aggfunc='sum'\n",
    ")\n",
    "\n",
    "print(retention_pivot)"
   ]
  },
  {
   "cell_type": "markdown",
   "metadata": {},
   "source": [
    "Получили таблицу, в которой в индексах находится дата первого визита на сайт, месяц, который определяет когорту, в наименованиях столбцов - срок жизни посетителя, значения - коэффициент удержания клиента.\n",
    "Для большей наглядности построим тепловую карту."
   ]
  },
  {
   "cell_type": "code",
   "execution_count": 43,
   "metadata": {
    "scrolled": false
   },
   "outputs": [
    {
     "data": {
      "image/png": "[encoded data removed]",
      "text/plain": [
       "<Figure size 936x648 with 2 Axes>"
      ]
     },
     "metadata": {},
     "output_type": "display_data"
    }
   ],
   "source": [
    "import seaborn as sns\n",
    "from matplotlib import pyplot as plt\n",
    "\n",
    "retention_pivot = retention_pivot.drop(retention_pivot.columns[0], axis=1)\n",
    "\n",
    "sns.set(style='white')\n",
    "plt.figure(figsize=(13, 9))\n",
    "plt.title('Когорты: удержание пользователей')\n",
    "\n",
    "sns.heatmap(retention_pivot, annot=True, fmt='.1%', linewidths=1, linecolor='gray')\n",
    "plt.ylabel('Месяц первого посещения сайта')\n",
    "plt.xlabel('Номер когорты')\n",
    "plt.show()"
   ]
  },
  {
   "cell_type": "markdown",
   "metadata": {},
   "source": [
    "Во всех когортах на первый месяц *lifetime* по сравнению с нулевым *Retention Rate* уменьшается. *Retention Rate* в первый месяц в разных когортах ведет себя по-разному. Если для когорты пользователей, пришедших с июня по июль 2017 года Retention Rate в первую неделю составляет 7,9%, то для пользователей, пришедших с июля по августа — уже 5,6%. Далее мы снова наблюдаем рост. \n",
    "Сильнее всего падает количество пользователей после первого месяца, затем немного подрастает в некоторых когортах. Т.е. часть пользователей возвращается на сайт, после того, как не интересовались им в первый месяц *lifetime*."
   ]
  },
  {
   "cell_type": "markdown",
   "metadata": {},
   "source": [
    "Рассчитаем среднее значение *Retention Rate* за второй месяц жизни когорт."
   ]
  },
  {
   "cell_type": "code",
   "execution_count": 44,
   "metadata": {
    "scrolled": true
   },
   "outputs": [
    {
     "data": {
      "text/plain": [
       "0.05971534653465346"
      ]
     },
     "execution_count": 44,
     "metadata": {},
     "output_type": "execute_result"
    }
   ],
   "source": [
    "retention_pivot[1].median()"
   ]
  },
  {
   "cell_type": "markdown",
   "metadata": {},
   "source": [
    "Т.е. в среднем во второй месяй жизни когорот возвращется 5.97% посетителей сайта."
   ]
  },
  {
   "cell_type": "markdown",
   "metadata": {},
   "source": [
    "### МЕТРИКИ ЭЛЕКТРОННОЙ КОММЕРЦИИ"
   ]
  },
  {
   "cell_type": "markdown",
   "metadata": {},
   "source": [
    "Создадим таблицу с датой первого посещения сайта для каждого пользователя."
   ]
  },
  {
   "cell_type": "code",
   "execution_count": 45,
   "metadata": {
    "scrolled": true
   },
   "outputs": [
    {
     "data": {
      "text/html": [
       "<div>\n",
       "<style scoped>\n",
       "    .dataframe tbody tr th:only-of-type {\n",
       "        vertical-align: middle;\n",
       "    }\n",
       "\n",
       "    .dataframe tbody tr th {\n",
       "        vertical-align: top;\n",
       "    }\n",
       "\n",
       "    .dataframe thead th {\n",
       "        text-align: right;\n",
       "    }\n",
       "</style>\n",
       "<table border=\"1\" class=\"dataframe\">\n",
       "  <thead>\n",
       "    <tr style=\"text-align: right;\">\n",
       "      <th></th>\n",
       "      <th>uid</th>\n",
       "      <th>start_ts</th>\n",
       "    </tr>\n",
       "  </thead>\n",
       "  <tbody>\n",
       "    <tr>\n",
       "      <th>0</th>\n",
       "      <td>11863502262781</td>\n",
       "      <td>2018-03-01 17:27:00</td>\n",
       "    </tr>\n",
       "    <tr>\n",
       "      <th>1</th>\n",
       "      <td>49537067089222</td>\n",
       "      <td>2018-02-06 15:55:00</td>\n",
       "    </tr>\n",
       "    <tr>\n",
       "      <th>2</th>\n",
       "      <td>297729379853735</td>\n",
       "      <td>2017-06-07 18:47:00</td>\n",
       "    </tr>\n",
       "    <tr>\n",
       "      <th>3</th>\n",
       "      <td>313578113262317</td>\n",
       "      <td>2017-09-18 22:49:00</td>\n",
       "    </tr>\n",
       "    <tr>\n",
       "      <th>4</th>\n",
       "      <td>325320750514679</td>\n",
       "      <td>2017-09-30 14:29:00</td>\n",
       "    </tr>\n",
       "  </tbody>\n",
       "</table>\n",
       "</div>"
      ],
      "text/plain": [
       "               uid            start_ts\n",
       "0   11863502262781 2018-03-01 17:27:00\n",
       "1   49537067089222 2018-02-06 15:55:00\n",
       "2  297729379853735 2017-06-07 18:47:00\n",
       "3  313578113262317 2017-09-18 22:49:00\n",
       "4  325320750514679 2017-09-30 14:29:00"
      ]
     },
     "execution_count": 45,
     "metadata": {},
     "output_type": "execute_result"
    }
   ],
   "source": [
    "df = visits_log.pivot_table(\n",
    "    index='uid', values='start_ts', aggfunc='min'\n",
    ").reset_index()\n",
    "df.head()"
   ]
  },
  {
   "cell_type": "markdown",
   "metadata": {},
   "source": [
    "Из таблицы с заказами выделим дату первой покупки так же для каждого пользователя."
   ]
  },
  {
   "cell_type": "code",
   "execution_count": 46,
   "metadata": {
    "scrolled": true
   },
   "outputs": [
    {
     "data": {
      "text/html": [
       "<div>\n",
       "<style scoped>\n",
       "    .dataframe tbody tr th:only-of-type {\n",
       "        vertical-align: middle;\n",
       "    }\n",
       "\n",
       "    .dataframe tbody tr th {\n",
       "        vertical-align: top;\n",
       "    }\n",
       "\n",
       "    .dataframe thead th {\n",
       "        text-align: right;\n",
       "    }\n",
       "</style>\n",
       "<table border=\"1\" class=\"dataframe\">\n",
       "  <thead>\n",
       "    <tr style=\"text-align: right;\">\n",
       "      <th></th>\n",
       "      <th>uid</th>\n",
       "      <th>buy_ts</th>\n",
       "    </tr>\n",
       "  </thead>\n",
       "  <tbody>\n",
       "    <tr>\n",
       "      <th>0</th>\n",
       "      <td>313578113262317</td>\n",
       "      <td>2018-01-03 21:51:00</td>\n",
       "    </tr>\n",
       "    <tr>\n",
       "      <th>1</th>\n",
       "      <td>1575281904278712</td>\n",
       "      <td>2017-06-03 10:13:00</td>\n",
       "    </tr>\n",
       "    <tr>\n",
       "      <th>2</th>\n",
       "      <td>2429014661409475</td>\n",
       "      <td>2017-10-11 18:33:00</td>\n",
       "    </tr>\n",
       "    <tr>\n",
       "      <th>3</th>\n",
       "      <td>2464366381792757</td>\n",
       "      <td>2018-01-28 15:54:00</td>\n",
       "    </tr>\n",
       "    <tr>\n",
       "      <th>4</th>\n",
       "      <td>2551852515556206</td>\n",
       "      <td>2017-11-24 10:14:00</td>\n",
       "    </tr>\n",
       "  </tbody>\n",
       "</table>\n",
       "</div>"
      ],
      "text/plain": [
       "                uid              buy_ts\n",
       "0   313578113262317 2018-01-03 21:51:00\n",
       "1  1575281904278712 2017-06-03 10:13:00\n",
       "2  2429014661409475 2017-10-11 18:33:00\n",
       "3  2464366381792757 2018-01-28 15:54:00\n",
       "4  2551852515556206 2017-11-24 10:14:00"
      ]
     },
     "execution_count": 46,
     "metadata": {},
     "output_type": "execute_result"
    }
   ],
   "source": [
    "orders = orders_log.pivot_table(index='uid', values='buy_ts', aggfunc='min').reset_index()\n",
    "orders.head()"
   ]
  },
  {
   "cell_type": "markdown",
   "metadata": {},
   "source": [
    "Объединим эти таблицы."
   ]
  },
  {
   "cell_type": "code",
   "execution_count": 47,
   "metadata": {
    "scrolled": true
   },
   "outputs": [
    {
     "data": {
      "text/html": [
       "<div>\n",
       "<style scoped>\n",
       "    .dataframe tbody tr th:only-of-type {\n",
       "        vertical-align: middle;\n",
       "    }\n",
       "\n",
       "    .dataframe tbody tr th {\n",
       "        vertical-align: top;\n",
       "    }\n",
       "\n",
       "    .dataframe thead th {\n",
       "        text-align: right;\n",
       "    }\n",
       "</style>\n",
       "<table border=\"1\" class=\"dataframe\">\n",
       "  <thead>\n",
       "    <tr style=\"text-align: right;\">\n",
       "      <th></th>\n",
       "      <th>uid</th>\n",
       "      <th>start_ts</th>\n",
       "      <th>buy_ts</th>\n",
       "    </tr>\n",
       "  </thead>\n",
       "  <tbody>\n",
       "    <tr>\n",
       "      <th>0</th>\n",
       "      <td>313578113262317</td>\n",
       "      <td>2017-09-18 22:49:00</td>\n",
       "      <td>2018-01-03 21:51:00</td>\n",
       "    </tr>\n",
       "    <tr>\n",
       "      <th>1</th>\n",
       "      <td>1575281904278712</td>\n",
       "      <td>2017-06-03 10:13:00</td>\n",
       "      <td>2017-06-03 10:13:00</td>\n",
       "    </tr>\n",
       "    <tr>\n",
       "      <th>2</th>\n",
       "      <td>2429014661409475</td>\n",
       "      <td>2017-10-11 17:14:00</td>\n",
       "      <td>2017-10-11 18:33:00</td>\n",
       "    </tr>\n",
       "    <tr>\n",
       "      <th>3</th>\n",
       "      <td>2464366381792757</td>\n",
       "      <td>2018-01-27 20:10:00</td>\n",
       "      <td>2018-01-28 15:54:00</td>\n",
       "    </tr>\n",
       "    <tr>\n",
       "      <th>4</th>\n",
       "      <td>2551852515556206</td>\n",
       "      <td>2017-11-24 10:14:00</td>\n",
       "      <td>2017-11-24 10:14:00</td>\n",
       "    </tr>\n",
       "  </tbody>\n",
       "</table>\n",
       "</div>"
      ],
      "text/plain": [
       "                uid            start_ts              buy_ts\n",
       "0   313578113262317 2017-09-18 22:49:00 2018-01-03 21:51:00\n",
       "1  1575281904278712 2017-06-03 10:13:00 2017-06-03 10:13:00\n",
       "2  2429014661409475 2017-10-11 17:14:00 2017-10-11 18:33:00\n",
       "3  2464366381792757 2018-01-27 20:10:00 2018-01-28 15:54:00\n",
       "4  2551852515556206 2017-11-24 10:14:00 2017-11-24 10:14:00"
      ]
     },
     "execution_count": 47,
     "metadata": {},
     "output_type": "execute_result"
    }
   ],
   "source": [
    "purchase = df.merge(orders, on='uid')\n",
    "purchase.head()"
   ]
  },
  {
   "cell_type": "markdown",
   "metadata": {},
   "source": [
    "Теперь посмотрим, сколько проходит времени с момента первого посещения сайта до момента совершения покупки."
   ]
  },
  {
   "cell_type": "code",
   "execution_count": 48,
   "metadata": {
    "scrolled": true
   },
   "outputs": [
    {
     "data": {
      "text/plain": [
       "0    82920\n",
       "1        0\n",
       "2     4740\n",
       "3    71040\n",
       "4        0\n",
       "dtype: int64"
      ]
     },
     "execution_count": 48,
     "metadata": {},
     "output_type": "execute_result"
    }
   ],
   "source": [
    "mean_time = (purchase['buy_ts'] - purchase['start_ts']).dt.seconds # считаем эту разницу в секундах\n",
    "mean_time.head()"
   ]
  },
  {
   "cell_type": "markdown",
   "metadata": {},
   "source": [
    "Построим распределение."
   ]
  },
  {
   "cell_type": "code",
   "execution_count": 49,
   "metadata": {
    "scrolled": true
   },
   "outputs": [
    {
     "data": {
      "image/png": "[encoded data removed]",
      "text/plain": [
       "<Figure size 1080x360 with 1 Axes>"
      ]
     },
     "metadata": {},
     "output_type": "display_data"
    }
   ],
   "source": [
    "plt.style.use('ggplot')\n",
    "mean_time.hist(bins=50, figsize=(15,5))\n",
    "plt.title('Распределение промежутка времени от первого посещения до совершения покупки')\n",
    "plt.ylabel('Количество пользователей')\n",
    "plt.xlabel('Длина промежутка времени')\n",
    "plt.show()"
   ]
  },
  {
   "cell_type": "markdown",
   "metadata": {},
   "source": [
    "Видно, что распределение отличается от нормального, у нас есть явно выделяющийся пик на 60 секунд, но так же есть и длинный \"хвост\", который уходит за сутки. Вычисли моду и медиану"
   ]
  },
  {
   "cell_type": "code",
   "execution_count": 50,
   "metadata": {
    "scrolled": true
   },
   "outputs": [
    {
     "name": "stdout",
     "output_type": "stream",
     "text": [
      "60\n",
      "960.0\n"
     ]
    }
   ],
   "source": [
    "print(mean_time.mode()[0])\n",
    "print(mean_time.median())"
   ]
  },
  {
   "cell_type": "markdown",
   "metadata": {},
   "source": [
    "Чаще всего посетители проводят минуту на сайте до совершения покупки, но в \"среднем\" с момента первого посещения сайта до совершения покупки проходит 960 секунд (16 минут)."
   ]
  },
  {
   "cell_type": "markdown",
   "metadata": {},
   "source": [
    "Рассчитаем среднее количество покупок."
   ]
  },
  {
   "cell_type": "code",
   "execution_count": 51,
   "metadata": {
    "scrolled": true
   },
   "outputs": [],
   "source": [
    "mean_purchases = orders_log"
   ]
  },
  {
   "cell_type": "code",
   "execution_count": 52,
   "metadata": {
    "scrolled": true
   },
   "outputs": [
    {
     "data": {
      "text/html": [
       "<div>\n",
       "<style scoped>\n",
       "    .dataframe tbody tr th:only-of-type {\n",
       "        vertical-align: middle;\n",
       "    }\n",
       "\n",
       "    .dataframe tbody tr th {\n",
       "        vertical-align: top;\n",
       "    }\n",
       "\n",
       "    .dataframe thead th {\n",
       "        text-align: right;\n",
       "    }\n",
       "</style>\n",
       "<table border=\"1\" class=\"dataframe\">\n",
       "  <thead>\n",
       "    <tr style=\"text-align: right;\">\n",
       "      <th></th>\n",
       "      <th>buy_ts</th>\n",
       "      <th>revenue</th>\n",
       "      <th>uid</th>\n",
       "      <th>month</th>\n",
       "      <th>year</th>\n",
       "    </tr>\n",
       "  </thead>\n",
       "  <tbody>\n",
       "    <tr>\n",
       "      <th>0</th>\n",
       "      <td>2017-06-01 00:10:00</td>\n",
       "      <td>17.00</td>\n",
       "      <td>10329302124590727494</td>\n",
       "      <td>6</td>\n",
       "      <td>2017</td>\n",
       "    </tr>\n",
       "    <tr>\n",
       "      <th>1</th>\n",
       "      <td>2017-06-01 00:25:00</td>\n",
       "      <td>0.55</td>\n",
       "      <td>11627257723692907447</td>\n",
       "      <td>6</td>\n",
       "      <td>2017</td>\n",
       "    </tr>\n",
       "    <tr>\n",
       "      <th>2</th>\n",
       "      <td>2017-06-01 00:27:00</td>\n",
       "      <td>0.37</td>\n",
       "      <td>17903680561304213844</td>\n",
       "      <td>6</td>\n",
       "      <td>2017</td>\n",
       "    </tr>\n",
       "    <tr>\n",
       "      <th>3</th>\n",
       "      <td>2017-06-01 00:29:00</td>\n",
       "      <td>0.55</td>\n",
       "      <td>16109239769442553005</td>\n",
       "      <td>6</td>\n",
       "      <td>2017</td>\n",
       "    </tr>\n",
       "    <tr>\n",
       "      <th>4</th>\n",
       "      <td>2017-06-01 07:58:00</td>\n",
       "      <td>0.37</td>\n",
       "      <td>14200605875248379450</td>\n",
       "      <td>6</td>\n",
       "      <td>2017</td>\n",
       "    </tr>\n",
       "  </tbody>\n",
       "</table>\n",
       "</div>"
      ],
      "text/plain": [
       "               buy_ts  revenue                   uid  month  year\n",
       "0 2017-06-01 00:10:00    17.00  10329302124590727494      6  2017\n",
       "1 2017-06-01 00:25:00     0.55  11627257723692907447      6  2017\n",
       "2 2017-06-01 00:27:00     0.37  17903680561304213844      6  2017\n",
       "3 2017-06-01 00:29:00     0.55  16109239769442553005      6  2017\n",
       "4 2017-06-01 07:58:00     0.37  14200605875248379450      6  2017"
      ]
     },
     "execution_count": 52,
     "metadata": {},
     "output_type": "execute_result"
    }
   ],
   "source": [
    "# выделяем из даты покупки месяц и год\n",
    "\n",
    "mean_purchases['month'] = orders_log['buy_ts'].dt.month\n",
    "mean_purchases['year'] = orders_log['buy_ts'].dt.year\n",
    "mean_purchases.head()"
   ]
  },
  {
   "cell_type": "code",
   "execution_count": 53,
   "metadata": {
    "scrolled": true
   },
   "outputs": [
    {
     "data": {
      "text/plain": [
       "1.3021816399068513"
      ]
     },
     "execution_count": 53,
     "metadata": {},
     "output_type": "execute_result"
    }
   ],
   "source": [
    "# отсортируем таблицу, возьмем данные за первые 6 месяцев рассматриваемого периода\n",
    "\n",
    "mean_purchases = mean_purchases.query('month < 12 and year == 2017')\n",
    "mean_purchases.groupby('uid')['uid'].count().mean()"
   ]
  },
  {
   "cell_type": "markdown",
   "metadata": {},
   "source": [
    "В среднем один покупатель совершает 1-2 покупки в рассмотренный период с июня по ноябрь 2017 года, покупатели возвращаются за повторными покупками, но редко."
   ]
  },
  {
   "cell_type": "markdown",
   "metadata": {},
   "source": [
    "Рассчитаем средний чек покупки."
   ]
  },
  {
   "cell_type": "code",
   "execution_count": 54,
   "metadata": {
    "scrolled": true
   },
   "outputs": [],
   "source": [
    "orders_log.drop('month', axis=1, inplace=True)"
   ]
  },
  {
   "cell_type": "code",
   "execution_count": 55,
   "metadata": {
    "scrolled": true
   },
   "outputs": [],
   "source": [
    "orders_log.drop('year', axis=1, inplace=True)"
   ]
  },
  {
   "cell_type": "code",
   "execution_count": 56,
   "metadata": {
    "scrolled": true
   },
   "outputs": [],
   "source": [
    "orders_log['order_month'] = orders_log['buy_ts'].dt.strftime('%Y-%m')"
   ]
  },
  {
   "cell_type": "code",
   "execution_count": 57,
   "metadata": {
    "scrolled": false
   },
   "outputs": [
    {
     "data": {
      "text/html": [
       "<div>\n",
       "<style scoped>\n",
       "    .dataframe tbody tr th:only-of-type {\n",
       "        vertical-align: middle;\n",
       "    }\n",
       "\n",
       "    .dataframe tbody tr th {\n",
       "        vertical-align: top;\n",
       "    }\n",
       "\n",
       "    .dataframe thead th {\n",
       "        text-align: right;\n",
       "    }\n",
       "</style>\n",
       "<table border=\"1\" class=\"dataframe\">\n",
       "  <thead>\n",
       "    <tr style=\"text-align: right;\">\n",
       "      <th></th>\n",
       "      <th>order_month</th>\n",
       "      <th>revenue</th>\n",
       "    </tr>\n",
       "  </thead>\n",
       "  <tbody>\n",
       "    <tr>\n",
       "      <th>0</th>\n",
       "      <td>2017-06</td>\n",
       "      <td>4.060106</td>\n",
       "    </tr>\n",
       "    <tr>\n",
       "      <th>1</th>\n",
       "      <td>2017-07</td>\n",
       "      <td>5.306589</td>\n",
       "    </tr>\n",
       "    <tr>\n",
       "      <th>2</th>\n",
       "      <td>2017-08</td>\n",
       "      <td>4.847139</td>\n",
       "    </tr>\n",
       "    <tr>\n",
       "      <th>3</th>\n",
       "      <td>2017-09</td>\n",
       "      <td>5.416448</td>\n",
       "    </tr>\n",
       "    <tr>\n",
       "      <th>4</th>\n",
       "      <td>2017-10</td>\n",
       "      <td>4.928280</td>\n",
       "    </tr>\n",
       "    <tr>\n",
       "      <th>5</th>\n",
       "      <td>2017-11</td>\n",
       "      <td>4.783518</td>\n",
       "    </tr>\n",
       "    <tr>\n",
       "      <th>6</th>\n",
       "      <td>2017-12</td>\n",
       "      <td>5.852139</td>\n",
       "    </tr>\n",
       "    <tr>\n",
       "      <th>7</th>\n",
       "      <td>2018-01</td>\n",
       "      <td>4.112927</td>\n",
       "    </tr>\n",
       "    <tr>\n",
       "      <th>8</th>\n",
       "      <td>2018-02</td>\n",
       "      <td>4.840095</td>\n",
       "    </tr>\n",
       "    <tr>\n",
       "      <th>9</th>\n",
       "      <td>2018-03</td>\n",
       "      <td>5.413930</td>\n",
       "    </tr>\n",
       "    <tr>\n",
       "      <th>10</th>\n",
       "      <td>2018-04</td>\n",
       "      <td>5.150645</td>\n",
       "    </tr>\n",
       "    <tr>\n",
       "      <th>11</th>\n",
       "      <td>2018-05</td>\n",
       "      <td>4.771279</td>\n",
       "    </tr>\n",
       "  </tbody>\n",
       "</table>\n",
       "</div>"
      ],
      "text/plain": [
       "   order_month   revenue\n",
       "0      2017-06  4.060106\n",
       "1      2017-07  5.306589\n",
       "2      2017-08  4.847139\n",
       "3      2017-09  5.416448\n",
       "4      2017-10  4.928280\n",
       "5      2017-11  4.783518\n",
       "6      2017-12  5.852139\n",
       "7      2018-01  4.112927\n",
       "8      2018-02  4.840095\n",
       "9      2018-03  5.413930\n",
       "10     2018-04  5.150645\n",
       "11     2018-05  4.771279"
      ]
     },
     "execution_count": 57,
     "metadata": {},
     "output_type": "execute_result"
    }
   ],
   "source": [
    "# aov - average order value\n",
    "aov = orders_log.pivot_table(index='order_month', values='revenue', aggfunc='mean').reset_index()\n",
    "aov"
   ]
  },
  {
   "cell_type": "markdown",
   "metadata": {},
   "source": [
    "Построим график, посмотрим, как меняется средний чек с течением времени."
   ]
  },
  {
   "cell_type": "code",
   "execution_count": 58,
   "metadata": {
    "scrolled": false
   },
   "outputs": [
    {
     "data": {
      "image/png": "[encoded data removed]",
      "text/plain": [
       "<Figure size 1440x720 with 1 Axes>"
      ]
     },
     "metadata": {},
     "output_type": "display_data"
    }
   ],
   "source": [
    "aov.plot(\n",
    "    x='order_month',\n",
    "    y='revenue', \n",
    "    grid=True,\n",
    "    figsize=(20,10)\n",
    ")\n",
    "\n",
    "plt.title('Изменение среднего чека во времени')\n",
    "plt.ylabel('Средний чек, у.е.')\n",
    "plt.xlabel('Месяц')\n",
    "plt.xticks(rotation=360)\n",
    "plt.legend().remove()\n",
    "plt.show()"
   ]
  },
  {
   "cell_type": "markdown",
   "metadata": {},
   "source": [
    "Видим, что от месяца к месяцу средний чек изменяется, максимума достигает в декабре и сильно падает в январе, скорее всего объясняется это сезонностью (декабрь - время предпраздничной суеты, январь - время затишья). Так же видим сильное снижение в конеце рассматриваемого периода, начиная с марта 2018 года средний чек уменьшается."
   ]
  },
  {
   "cell_type": "markdown",
   "metadata": {},
   "source": [
    "Посчитаем средний чек за весь рассматриваемый период."
   ]
  },
  {
   "cell_type": "code",
   "execution_count": 59,
   "metadata": {},
   "outputs": [
    {
     "data": {
      "text/plain": [
       "4.96"
      ]
     },
     "execution_count": 59,
     "metadata": {},
     "output_type": "execute_result"
    }
   ],
   "source": [
    "average_value = aov['revenue'].mean()\n",
    "round(average_value, 2)"
   ]
  },
  {
   "cell_type": "markdown",
   "metadata": {},
   "source": [
    "Средний чек за весь период - 4.96 у.е."
   ]
  },
  {
   "cell_type": "markdown",
   "metadata": {},
   "source": [
    "Посчитаем количество покупателей в каждой когорте."
   ]
  },
  {
   "cell_type": "code",
   "execution_count": 60,
   "metadata": {
    "scrolled": true
   },
   "outputs": [
    {
     "data": {
      "text/html": [
       "<div>\n",
       "<style scoped>\n",
       "    .dataframe tbody tr th:only-of-type {\n",
       "        vertical-align: middle;\n",
       "    }\n",
       "\n",
       "    .dataframe tbody tr th {\n",
       "        vertical-align: top;\n",
       "    }\n",
       "\n",
       "    .dataframe thead th {\n",
       "        text-align: right;\n",
       "    }\n",
       "</style>\n",
       "<table border=\"1\" class=\"dataframe\">\n",
       "  <thead>\n",
       "    <tr style=\"text-align: right;\">\n",
       "      <th></th>\n",
       "      <th>buy_ts</th>\n",
       "      <th>revenue</th>\n",
       "      <th>uid</th>\n",
       "      <th>order_month</th>\n",
       "      <th>first_order_date</th>\n",
       "    </tr>\n",
       "  </thead>\n",
       "  <tbody>\n",
       "    <tr>\n",
       "      <th>0</th>\n",
       "      <td>2017-06-01 00:10:00</td>\n",
       "      <td>17.00</td>\n",
       "      <td>10329302124590727494</td>\n",
       "      <td>2017-06</td>\n",
       "      <td>2017-06-01 00:10:00</td>\n",
       "    </tr>\n",
       "    <tr>\n",
       "      <th>1</th>\n",
       "      <td>2017-06-01 00:25:00</td>\n",
       "      <td>0.55</td>\n",
       "      <td>11627257723692907447</td>\n",
       "      <td>2017-06</td>\n",
       "      <td>2017-06-01 00:25:00</td>\n",
       "    </tr>\n",
       "    <tr>\n",
       "      <th>2</th>\n",
       "      <td>2017-06-01 00:27:00</td>\n",
       "      <td>0.37</td>\n",
       "      <td>17903680561304213844</td>\n",
       "      <td>2017-06</td>\n",
       "      <td>2017-06-01 00:27:00</td>\n",
       "    </tr>\n",
       "    <tr>\n",
       "      <th>3</th>\n",
       "      <td>2017-06-01 00:29:00</td>\n",
       "      <td>0.55</td>\n",
       "      <td>16109239769442553005</td>\n",
       "      <td>2017-06</td>\n",
       "      <td>2017-06-01 00:29:00</td>\n",
       "    </tr>\n",
       "    <tr>\n",
       "      <th>4</th>\n",
       "      <td>2017-06-01 07:58:00</td>\n",
       "      <td>0.37</td>\n",
       "      <td>14200605875248379450</td>\n",
       "      <td>2017-06</td>\n",
       "      <td>2017-06-01 07:58:00</td>\n",
       "    </tr>\n",
       "  </tbody>\n",
       "</table>\n",
       "</div>"
      ],
      "text/plain": [
       "               buy_ts  revenue                   uid order_month  \\\n",
       "0 2017-06-01 00:10:00    17.00  10329302124590727494     2017-06   \n",
       "1 2017-06-01 00:25:00     0.55  11627257723692907447     2017-06   \n",
       "2 2017-06-01 00:27:00     0.37  17903680561304213844     2017-06   \n",
       "3 2017-06-01 00:29:00     0.55  16109239769442553005     2017-06   \n",
       "4 2017-06-01 07:58:00     0.37  14200605875248379450     2017-06   \n",
       "\n",
       "     first_order_date  \n",
       "0 2017-06-01 00:10:00  \n",
       "1 2017-06-01 00:25:00  \n",
       "2 2017-06-01 00:27:00  \n",
       "3 2017-06-01 00:29:00  \n",
       "4 2017-06-01 07:58:00  "
      ]
     },
     "execution_count": 60,
     "metadata": {},
     "output_type": "execute_result"
    }
   ],
   "source": [
    "first_order_date = orders.groupby('uid')['buy_ts'].min()\n",
    "first_order_date.name = 'first_order_date'\n",
    "first_order = orders_log.join(first_order_date, on='uid') # добавляем в таблицу дату первого заказа\n",
    "first_order.head()"
   ]
  },
  {
   "cell_type": "code",
   "execution_count": 61,
   "metadata": {
    "scrolled": true
   },
   "outputs": [
    {
     "data": {
      "text/html": [
       "<div>\n",
       "<style scoped>\n",
       "    .dataframe tbody tr th:only-of-type {\n",
       "        vertical-align: middle;\n",
       "    }\n",
       "\n",
       "    .dataframe tbody tr th {\n",
       "        vertical-align: top;\n",
       "    }\n",
       "\n",
       "    .dataframe thead th {\n",
       "        text-align: right;\n",
       "    }\n",
       "</style>\n",
       "<table border=\"1\" class=\"dataframe\">\n",
       "  <thead>\n",
       "    <tr style=\"text-align: right;\">\n",
       "      <th></th>\n",
       "      <th>buy_ts</th>\n",
       "      <th>revenue</th>\n",
       "      <th>uid</th>\n",
       "      <th>order_month</th>\n",
       "      <th>first_order_date</th>\n",
       "    </tr>\n",
       "  </thead>\n",
       "  <tbody>\n",
       "    <tr>\n",
       "      <th>0</th>\n",
       "      <td>2017-06-01 00:10:00</td>\n",
       "      <td>17.00</td>\n",
       "      <td>10329302124590727494</td>\n",
       "      <td>2017-06-01</td>\n",
       "      <td>2017-06-01 00:10:00</td>\n",
       "    </tr>\n",
       "    <tr>\n",
       "      <th>1</th>\n",
       "      <td>2017-06-01 00:25:00</td>\n",
       "      <td>0.55</td>\n",
       "      <td>11627257723692907447</td>\n",
       "      <td>2017-06-01</td>\n",
       "      <td>2017-06-01 00:25:00</td>\n",
       "    </tr>\n",
       "    <tr>\n",
       "      <th>2</th>\n",
       "      <td>2017-06-01 00:27:00</td>\n",
       "      <td>0.37</td>\n",
       "      <td>17903680561304213844</td>\n",
       "      <td>2017-06-01</td>\n",
       "      <td>2017-06-01 00:27:00</td>\n",
       "    </tr>\n",
       "    <tr>\n",
       "      <th>3</th>\n",
       "      <td>2017-06-01 00:29:00</td>\n",
       "      <td>0.55</td>\n",
       "      <td>16109239769442553005</td>\n",
       "      <td>2017-06-01</td>\n",
       "      <td>2017-06-01 00:29:00</td>\n",
       "    </tr>\n",
       "    <tr>\n",
       "      <th>4</th>\n",
       "      <td>2017-06-01 07:58:00</td>\n",
       "      <td>0.37</td>\n",
       "      <td>14200605875248379450</td>\n",
       "      <td>2017-06-01</td>\n",
       "      <td>2017-06-01 07:58:00</td>\n",
       "    </tr>\n",
       "  </tbody>\n",
       "</table>\n",
       "</div>"
      ],
      "text/plain": [
       "               buy_ts  revenue                   uid order_month  \\\n",
       "0 2017-06-01 00:10:00    17.00  10329302124590727494  2017-06-01   \n",
       "1 2017-06-01 00:25:00     0.55  11627257723692907447  2017-06-01   \n",
       "2 2017-06-01 00:27:00     0.37  17903680561304213844  2017-06-01   \n",
       "3 2017-06-01 00:29:00     0.55  16109239769442553005  2017-06-01   \n",
       "4 2017-06-01 07:58:00     0.37  14200605875248379450  2017-06-01   \n",
       "\n",
       "     first_order_date  \n",
       "0 2017-06-01 00:10:00  \n",
       "1 2017-06-01 00:25:00  \n",
       "2 2017-06-01 00:27:00  \n",
       "3 2017-06-01 00:29:00  \n",
       "4 2017-06-01 07:58:00  "
      ]
     },
     "execution_count": 61,
     "metadata": {},
     "output_type": "execute_result"
    }
   ],
   "source": [
    "first_order['order_month'] = first_order['buy_ts'].astype('datetime64[M]')\n",
    "first_order.head()"
   ]
  },
  {
   "cell_type": "code",
   "execution_count": 62,
   "metadata": {
    "scrolled": true
   },
   "outputs": [],
   "source": [
    "first_order['first_order_month'] = first_order['first_order_date'].astype('datetime64[M]')"
   ]
  },
  {
   "cell_type": "code",
   "execution_count": 63,
   "metadata": {
    "scrolled": true
   },
   "outputs": [],
   "source": [
    "# считаем количество покупателей в когорте\n",
    "cohort_sizes = first_order.groupby('first_order_month').agg({'uid': 'nunique'}).reset_index()\n",
    "cohort_sizes.columns = ['first_order_month', 'n_buyers']"
   ]
  },
  {
   "cell_type": "code",
   "execution_count": 64,
   "metadata": {
    "scrolled": true
   },
   "outputs": [],
   "source": [
    "# формируем таблицу с доходом по каждой когорте\n",
    "cohorts = (\n",
    "    first_order.groupby(['first_order_month', 'order_month'])\n",
    "    .agg({'revenue': 'sum'})\n",
    "    .reset_index()\n",
    ")"
   ]
  },
  {
   "cell_type": "code",
   "execution_count": 65,
   "metadata": {
    "scrolled": true
   },
   "outputs": [
    {
     "data": {
      "text/html": [
       "<div>\n",
       "<style scoped>\n",
       "    .dataframe tbody tr th:only-of-type {\n",
       "        vertical-align: middle;\n",
       "    }\n",
       "\n",
       "    .dataframe tbody tr th {\n",
       "        vertical-align: top;\n",
       "    }\n",
       "\n",
       "    .dataframe thead th {\n",
       "        text-align: right;\n",
       "    }\n",
       "</style>\n",
       "<table border=\"1\" class=\"dataframe\">\n",
       "  <thead>\n",
       "    <tr style=\"text-align: right;\">\n",
       "      <th></th>\n",
       "      <th>first_order_month</th>\n",
       "      <th>n_buyers</th>\n",
       "      <th>order_month</th>\n",
       "      <th>revenue</th>\n",
       "    </tr>\n",
       "  </thead>\n",
       "  <tbody>\n",
       "    <tr>\n",
       "      <th>0</th>\n",
       "      <td>2017-06-01</td>\n",
       "      <td>2023</td>\n",
       "      <td>2017-06-01</td>\n",
       "      <td>9557.49</td>\n",
       "    </tr>\n",
       "    <tr>\n",
       "      <th>1</th>\n",
       "      <td>2017-06-01</td>\n",
       "      <td>2023</td>\n",
       "      <td>2017-07-01</td>\n",
       "      <td>981.82</td>\n",
       "    </tr>\n",
       "    <tr>\n",
       "      <th>2</th>\n",
       "      <td>2017-06-01</td>\n",
       "      <td>2023</td>\n",
       "      <td>2017-08-01</td>\n",
       "      <td>885.34</td>\n",
       "    </tr>\n",
       "    <tr>\n",
       "      <th>3</th>\n",
       "      <td>2017-06-01</td>\n",
       "      <td>2023</td>\n",
       "      <td>2017-09-01</td>\n",
       "      <td>1931.30</td>\n",
       "    </tr>\n",
       "    <tr>\n",
       "      <th>4</th>\n",
       "      <td>2017-06-01</td>\n",
       "      <td>2023</td>\n",
       "      <td>2017-10-01</td>\n",
       "      <td>2068.58</td>\n",
       "    </tr>\n",
       "  </tbody>\n",
       "</table>\n",
       "</div>"
      ],
      "text/plain": [
       "  first_order_month  n_buyers order_month  revenue\n",
       "0        2017-06-01      2023  2017-06-01  9557.49\n",
       "1        2017-06-01      2023  2017-07-01   981.82\n",
       "2        2017-06-01      2023  2017-08-01   885.34\n",
       "3        2017-06-01      2023  2017-09-01  1931.30\n",
       "4        2017-06-01      2023  2017-10-01  2068.58"
      ]
     },
     "execution_count": 65,
     "metadata": {},
     "output_type": "execute_result"
    }
   ],
   "source": [
    "# создаем таблицу для расчет LTV\n",
    "report = pd.merge(cohort_sizes, cohorts, on='first_order_month')\n",
    "report.head()"
   ]
  },
  {
   "cell_type": "markdown",
   "metadata": {
    "scrolled": true
   },
   "source": [
    "Т.к. маржинальность равна 100%, то можем в рассчетах использовать столбец c доходами(*revenue*)."
   ]
  },
  {
   "cell_type": "code",
   "execution_count": 66,
   "metadata": {
    "scrolled": false
   },
   "outputs": [],
   "source": [
    "# добовляем время жизни когорты\n",
    "report['age'] = (\n",
    "    report['order_month'] - report['first_order_month']\n",
    ") / np.timedelta64(1, 'M')"
   ]
  },
  {
   "cell_type": "code",
   "execution_count": 67,
   "metadata": {
    "scrolled": true
   },
   "outputs": [
    {
     "data": {
      "text/html": [
       "<div>\n",
       "<style scoped>\n",
       "    .dataframe tbody tr th:only-of-type {\n",
       "        vertical-align: middle;\n",
       "    }\n",
       "\n",
       "    .dataframe tbody tr th {\n",
       "        vertical-align: top;\n",
       "    }\n",
       "\n",
       "    .dataframe thead th {\n",
       "        text-align: right;\n",
       "    }\n",
       "</style>\n",
       "<table border=\"1\" class=\"dataframe\">\n",
       "  <thead>\n",
       "    <tr style=\"text-align: right;\">\n",
       "      <th></th>\n",
       "      <th>first_order_month</th>\n",
       "      <th>n_buyers</th>\n",
       "      <th>order_month</th>\n",
       "      <th>revenue</th>\n",
       "      <th>age</th>\n",
       "    </tr>\n",
       "  </thead>\n",
       "  <tbody>\n",
       "    <tr>\n",
       "      <th>0</th>\n",
       "      <td>2017-06-01</td>\n",
       "      <td>2023</td>\n",
       "      <td>2017-06-01</td>\n",
       "      <td>9557.49</td>\n",
       "      <td>0</td>\n",
       "    </tr>\n",
       "    <tr>\n",
       "      <th>1</th>\n",
       "      <td>2017-06-01</td>\n",
       "      <td>2023</td>\n",
       "      <td>2017-07-01</td>\n",
       "      <td>981.82</td>\n",
       "      <td>1</td>\n",
       "    </tr>\n",
       "    <tr>\n",
       "      <th>2</th>\n",
       "      <td>2017-06-01</td>\n",
       "      <td>2023</td>\n",
       "      <td>2017-08-01</td>\n",
       "      <td>885.34</td>\n",
       "      <td>2</td>\n",
       "    </tr>\n",
       "    <tr>\n",
       "      <th>3</th>\n",
       "      <td>2017-06-01</td>\n",
       "      <td>2023</td>\n",
       "      <td>2017-09-01</td>\n",
       "      <td>1931.30</td>\n",
       "      <td>3</td>\n",
       "    </tr>\n",
       "    <tr>\n",
       "      <th>4</th>\n",
       "      <td>2017-06-01</td>\n",
       "      <td>2023</td>\n",
       "      <td>2017-10-01</td>\n",
       "      <td>2068.58</td>\n",
       "      <td>4</td>\n",
       "    </tr>\n",
       "  </tbody>\n",
       "</table>\n",
       "</div>"
      ],
      "text/plain": [
       "  first_order_month  n_buyers order_month  revenue  age\n",
       "0        2017-06-01      2023  2017-06-01  9557.49    0\n",
       "1        2017-06-01      2023  2017-07-01   981.82    1\n",
       "2        2017-06-01      2023  2017-08-01   885.34    2\n",
       "3        2017-06-01      2023  2017-09-01  1931.30    3\n",
       "4        2017-06-01      2023  2017-10-01  2068.58    4"
      ]
     },
     "execution_count": 67,
     "metadata": {},
     "output_type": "execute_result"
    }
   ],
   "source": [
    "report['age'] = report['age'].round().astype('int')\n",
    "report.head()"
   ]
  },
  {
   "cell_type": "code",
   "execution_count": 68,
   "metadata": {
    "scrolled": false
   },
   "outputs": [
    {
     "data": {
      "text/html": [
       "<div>\n",
       "<style scoped>\n",
       "    .dataframe tbody tr th:only-of-type {\n",
       "        vertical-align: middle;\n",
       "    }\n",
       "\n",
       "    .dataframe tbody tr th {\n",
       "        vertical-align: top;\n",
       "    }\n",
       "\n",
       "    .dataframe thead th {\n",
       "        text-align: right;\n",
       "    }\n",
       "</style>\n",
       "<table border=\"1\" class=\"dataframe\">\n",
       "  <thead>\n",
       "    <tr style=\"text-align: right;\">\n",
       "      <th>age</th>\n",
       "      <th>0</th>\n",
       "      <th>1</th>\n",
       "      <th>2</th>\n",
       "      <th>3</th>\n",
       "      <th>4</th>\n",
       "      <th>5</th>\n",
       "      <th>6</th>\n",
       "      <th>7</th>\n",
       "      <th>8</th>\n",
       "      <th>9</th>\n",
       "      <th>10</th>\n",
       "      <th>11</th>\n",
       "    </tr>\n",
       "    <tr>\n",
       "      <th>first_order_month</th>\n",
       "      <th></th>\n",
       "      <th></th>\n",
       "      <th></th>\n",
       "      <th></th>\n",
       "      <th></th>\n",
       "      <th></th>\n",
       "      <th></th>\n",
       "      <th></th>\n",
       "      <th></th>\n",
       "      <th></th>\n",
       "      <th></th>\n",
       "      <th></th>\n",
       "    </tr>\n",
       "  </thead>\n",
       "  <tbody>\n",
       "    <tr>\n",
       "      <th>2017-06-01</th>\n",
       "      <td>4.72</td>\n",
       "      <td>5.21</td>\n",
       "      <td>5.65</td>\n",
       "      <td>6.60</td>\n",
       "      <td>7.62</td>\n",
       "      <td>8.36</td>\n",
       "      <td>9.31</td>\n",
       "      <td>9.89</td>\n",
       "      <td>10.44</td>\n",
       "      <td>11.05</td>\n",
       "      <td>11.62</td>\n",
       "      <td>11.88</td>\n",
       "    </tr>\n",
       "    <tr>\n",
       "      <th>2017-07-01</th>\n",
       "      <td>6.01</td>\n",
       "      <td>6.35</td>\n",
       "      <td>6.97</td>\n",
       "      <td>7.33</td>\n",
       "      <td>7.51</td>\n",
       "      <td>7.67</td>\n",
       "      <td>7.79</td>\n",
       "      <td>7.93</td>\n",
       "      <td>8.09</td>\n",
       "      <td>8.24</td>\n",
       "      <td>8.40</td>\n",
       "      <td>NaN</td>\n",
       "    </tr>\n",
       "    <tr>\n",
       "      <th>2017-08-01</th>\n",
       "      <td>5.28</td>\n",
       "      <td>5.75</td>\n",
       "      <td>6.21</td>\n",
       "      <td>6.60</td>\n",
       "      <td>7.09</td>\n",
       "      <td>7.37</td>\n",
       "      <td>7.58</td>\n",
       "      <td>7.99</td>\n",
       "      <td>8.28</td>\n",
       "      <td>8.47</td>\n",
       "      <td>NaN</td>\n",
       "      <td>NaN</td>\n",
       "    </tr>\n",
       "    <tr>\n",
       "      <th>2017-09-01</th>\n",
       "      <td>5.64</td>\n",
       "      <td>6.76</td>\n",
       "      <td>7.28</td>\n",
       "      <td>11.26</td>\n",
       "      <td>11.66</td>\n",
       "      <td>12.31</td>\n",
       "      <td>13.01</td>\n",
       "      <td>13.25</td>\n",
       "      <td>13.43</td>\n",
       "      <td>NaN</td>\n",
       "      <td>NaN</td>\n",
       "      <td>NaN</td>\n",
       "    </tr>\n",
       "    <tr>\n",
       "      <th>2017-10-01</th>\n",
       "      <td>5.00</td>\n",
       "      <td>5.54</td>\n",
       "      <td>5.73</td>\n",
       "      <td>5.89</td>\n",
       "      <td>6.04</td>\n",
       "      <td>6.16</td>\n",
       "      <td>6.24</td>\n",
       "      <td>6.36</td>\n",
       "      <td>NaN</td>\n",
       "      <td>NaN</td>\n",
       "      <td>NaN</td>\n",
       "      <td>NaN</td>\n",
       "    </tr>\n",
       "    <tr>\n",
       "      <th>2017-11-01</th>\n",
       "      <td>5.15</td>\n",
       "      <td>5.55</td>\n",
       "      <td>5.75</td>\n",
       "      <td>6.07</td>\n",
       "      <td>6.22</td>\n",
       "      <td>6.27</td>\n",
       "      <td>6.38</td>\n",
       "      <td>NaN</td>\n",
       "      <td>NaN</td>\n",
       "      <td>NaN</td>\n",
       "      <td>NaN</td>\n",
       "      <td>NaN</td>\n",
       "    </tr>\n",
       "    <tr>\n",
       "      <th>2017-12-01</th>\n",
       "      <td>4.74</td>\n",
       "      <td>5.00</td>\n",
       "      <td>5.93</td>\n",
       "      <td>7.00</td>\n",
       "      <td>7.31</td>\n",
       "      <td>7.65</td>\n",
       "      <td>NaN</td>\n",
       "      <td>NaN</td>\n",
       "      <td>NaN</td>\n",
       "      <td>NaN</td>\n",
       "      <td>NaN</td>\n",
       "      <td>NaN</td>\n",
       "    </tr>\n",
       "    <tr>\n",
       "      <th>2018-01-01</th>\n",
       "      <td>4.14</td>\n",
       "      <td>4.43</td>\n",
       "      <td>4.73</td>\n",
       "      <td>4.87</td>\n",
       "      <td>4.93</td>\n",
       "      <td>NaN</td>\n",
       "      <td>NaN</td>\n",
       "      <td>NaN</td>\n",
       "      <td>NaN</td>\n",
       "      <td>NaN</td>\n",
       "      <td>NaN</td>\n",
       "      <td>NaN</td>\n",
       "    </tr>\n",
       "    <tr>\n",
       "      <th>2018-02-01</th>\n",
       "      <td>4.16</td>\n",
       "      <td>4.44</td>\n",
       "      <td>4.52</td>\n",
       "      <td>4.59</td>\n",
       "      <td>NaN</td>\n",
       "      <td>NaN</td>\n",
       "      <td>NaN</td>\n",
       "      <td>NaN</td>\n",
       "      <td>NaN</td>\n",
       "      <td>NaN</td>\n",
       "      <td>NaN</td>\n",
       "      <td>NaN</td>\n",
       "    </tr>\n",
       "    <tr>\n",
       "      <th>2018-03-01</th>\n",
       "      <td>4.84</td>\n",
       "      <td>5.14</td>\n",
       "      <td>5.46</td>\n",
       "      <td>NaN</td>\n",
       "      <td>NaN</td>\n",
       "      <td>NaN</td>\n",
       "      <td>NaN</td>\n",
       "      <td>NaN</td>\n",
       "      <td>NaN</td>\n",
       "      <td>NaN</td>\n",
       "      <td>NaN</td>\n",
       "      <td>NaN</td>\n",
       "    </tr>\n",
       "    <tr>\n",
       "      <th>2018-04-01</th>\n",
       "      <td>4.66</td>\n",
       "      <td>5.19</td>\n",
       "      <td>NaN</td>\n",
       "      <td>NaN</td>\n",
       "      <td>NaN</td>\n",
       "      <td>NaN</td>\n",
       "      <td>NaN</td>\n",
       "      <td>NaN</td>\n",
       "      <td>NaN</td>\n",
       "      <td>NaN</td>\n",
       "      <td>NaN</td>\n",
       "      <td>NaN</td>\n",
       "    </tr>\n",
       "    <tr>\n",
       "      <th>2018-05-01</th>\n",
       "      <td>4.66</td>\n",
       "      <td>NaN</td>\n",
       "      <td>NaN</td>\n",
       "      <td>NaN</td>\n",
       "      <td>NaN</td>\n",
       "      <td>NaN</td>\n",
       "      <td>NaN</td>\n",
       "      <td>NaN</td>\n",
       "      <td>NaN</td>\n",
       "      <td>NaN</td>\n",
       "      <td>NaN</td>\n",
       "      <td>NaN</td>\n",
       "    </tr>\n",
       "  </tbody>\n",
       "</table>\n",
       "</div>"
      ],
      "text/plain": [
       "age                  0     1     2      3      4      5      6      7      8   \\\n",
       "first_order_month                                                               \n",
       "2017-06-01         4.72  5.21  5.65   6.60   7.62   8.36   9.31   9.89  10.44   \n",
       "2017-07-01         6.01  6.35  6.97   7.33   7.51   7.67   7.79   7.93   8.09   \n",
       "2017-08-01         5.28  5.75  6.21   6.60   7.09   7.37   7.58   7.99   8.28   \n",
       "2017-09-01         5.64  6.76  7.28  11.26  11.66  12.31  13.01  13.25  13.43   \n",
       "2017-10-01         5.00  5.54  5.73   5.89   6.04   6.16   6.24   6.36    NaN   \n",
       "2017-11-01         5.15  5.55  5.75   6.07   6.22   6.27   6.38    NaN    NaN   \n",
       "2017-12-01         4.74  5.00  5.93   7.00   7.31   7.65    NaN    NaN    NaN   \n",
       "2018-01-01         4.14  4.43  4.73   4.87   4.93    NaN    NaN    NaN    NaN   \n",
       "2018-02-01         4.16  4.44  4.52   4.59    NaN    NaN    NaN    NaN    NaN   \n",
       "2018-03-01         4.84  5.14  5.46    NaN    NaN    NaN    NaN    NaN    NaN   \n",
       "2018-04-01         4.66  5.19   NaN    NaN    NaN    NaN    NaN    NaN    NaN   \n",
       "2018-05-01         4.66   NaN   NaN    NaN    NaN    NaN    NaN    NaN    NaN   \n",
       "\n",
       "age                   9      10     11  \n",
       "first_order_month                       \n",
       "2017-06-01         11.05  11.62  11.88  \n",
       "2017-07-01          8.24   8.40    NaN  \n",
       "2017-08-01          8.47    NaN    NaN  \n",
       "2017-09-01           NaN    NaN    NaN  \n",
       "2017-10-01           NaN    NaN    NaN  \n",
       "2017-11-01           NaN    NaN    NaN  \n",
       "2017-12-01           NaN    NaN    NaN  \n",
       "2018-01-01           NaN    NaN    NaN  \n",
       "2018-02-01           NaN    NaN    NaN  \n",
       "2018-03-01           NaN    NaN    NaN  \n",
       "2018-04-01           NaN    NaN    NaN  \n",
       "2018-05-01           NaN    NaN    NaN  "
      ]
     },
     "execution_count": 68,
     "metadata": {},
     "output_type": "execute_result"
    }
   ],
   "source": [
    "report['ltv'] = report['revenue'] / report['n_buyers']\n",
    "\n",
    "report['first_order_month'] = report['first_order_month'].astype('str')\n",
    "\n",
    "output = report.pivot_table(\n",
    "    index='first_order_month', columns='age', values='ltv', aggfunc='mean'\n",
    ").round(2)\n",
    "\n",
    "output.fillna('') \n",
    "\n",
    "# считаем накопительный LTV\n",
    "output = output.cumsum(axis=1).round(2) \n",
    "output"
   ]
  },
  {
   "cell_type": "markdown",
   "metadata": {},
   "source": [
    "Построим тепловую карту для LTV."
   ]
  },
  {
   "cell_type": "code",
   "execution_count": 69,
   "metadata": {
    "scrolled": false
   },
   "outputs": [
    {
     "data": {
      "image/png": "[encoded data removed]",
      "text/plain": [
       "<Figure size 936x648 with 2 Axes>"
      ]
     },
     "metadata": {},
     "output_type": "display_data"
    }
   ],
   "source": [
    "plt.figure(figsize=(13, 9))\n",
    "plt.title('Изменение LTV во времени')\n",
    "sns.heatmap(output, fmt='.2f', annot=True, linewidths=1, linecolor='gray')\n",
    "plt.ylabel('Месяц первого заказа')\n",
    "plt.xlabel('Номер когорты')\n",
    "plt.show()"
   ]
  },
  {
   "cell_type": "markdown",
   "metadata": {},
   "source": [
    "Отметим, что больше всего прибыли принесли когорты июня и сентября 2017 года, остальные не отличаются сильным ростом. Далее рассчитаем среднюю ценность клиента за 6 месяцев."
   ]
  },
  {
   "cell_type": "code",
   "execution_count": 70,
   "metadata": {
    "scrolled": true
   },
   "outputs": [
    {
     "name": "stdout",
     "output_type": "stream",
     "text": [
      "Средний LTV за 6 месяцев после первой покупки: 7.969052630207335\n"
     ]
    }
   ],
   "source": [
    "final_result = report.pivot_table(\n",
    "    index='first_order_month',\n",
    "    columns='age',\n",
    "    values='ltv',\n",
    "    aggfunc='mean'\n",
    ")\n",
    "\n",
    "cum_ltv = final_result.cumsum(axis=1).mean(axis=0)[5]\n",
    "\n",
    "print('Средний LTV за 6 месяцев после первой покупки:', cum_ltv)"
   ]
  },
  {
   "cell_type": "markdown",
   "metadata": {},
   "source": [
    "Чтобы вложения в маркетинг окупались, привлечение одного покупателя не должно превышать 7.97 у.е. в месяц."
   ]
  },
  {
   "cell_type": "markdown",
   "metadata": {},
   "source": [
    "### МАРКЕТИНГОВЫЕ МЕТРИКИ"
   ]
  },
  {
   "cell_type": "markdown",
   "metadata": {},
   "source": [
    "Рассмотрим данные с информацией о расходах на маркетинг."
   ]
  },
  {
   "cell_type": "markdown",
   "metadata": {},
   "source": [
    "Вычислим стоимость привлечения клиента в зависимости от рекламного источника"
   ]
  },
  {
   "cell_type": "code",
   "execution_count": 71,
   "metadata": {
    "scrolled": true
   },
   "outputs": [
    {
     "data": {
      "text/html": [
       "<div>\n",
       "<style scoped>\n",
       "    .dataframe tbody tr th:only-of-type {\n",
       "        vertical-align: middle;\n",
       "    }\n",
       "\n",
       "    .dataframe tbody tr th {\n",
       "        vertical-align: top;\n",
       "    }\n",
       "\n",
       "    .dataframe thead th {\n",
       "        text-align: right;\n",
       "    }\n",
       "</style>\n",
       "<table border=\"1\" class=\"dataframe\">\n",
       "  <thead>\n",
       "    <tr style=\"text-align: right;\">\n",
       "      <th></th>\n",
       "      <th>source_id</th>\n",
       "      <th>costs</th>\n",
       "    </tr>\n",
       "  </thead>\n",
       "  <tbody>\n",
       "    <tr>\n",
       "      <th>0</th>\n",
       "      <td>1</td>\n",
       "      <td>20833.27</td>\n",
       "    </tr>\n",
       "    <tr>\n",
       "      <th>1</th>\n",
       "      <td>2</td>\n",
       "      <td>42806.04</td>\n",
       "    </tr>\n",
       "    <tr>\n",
       "      <th>2</th>\n",
       "      <td>3</td>\n",
       "      <td>141321.63</td>\n",
       "    </tr>\n",
       "    <tr>\n",
       "      <th>3</th>\n",
       "      <td>4</td>\n",
       "      <td>61073.60</td>\n",
       "    </tr>\n",
       "    <tr>\n",
       "      <th>4</th>\n",
       "      <td>5</td>\n",
       "      <td>51757.10</td>\n",
       "    </tr>\n",
       "    <tr>\n",
       "      <th>5</th>\n",
       "      <td>9</td>\n",
       "      <td>5517.49</td>\n",
       "    </tr>\n",
       "    <tr>\n",
       "      <th>6</th>\n",
       "      <td>10</td>\n",
       "      <td>5822.49</td>\n",
       "    </tr>\n",
       "  </tbody>\n",
       "</table>\n",
       "</div>"
      ],
      "text/plain": [
       "   source_id      costs\n",
       "0          1   20833.27\n",
       "1          2   42806.04\n",
       "2          3  141321.63\n",
       "3          4   61073.60\n",
       "4          5   51757.10\n",
       "5          9    5517.49\n",
       "6         10    5822.49"
      ]
     },
     "execution_count": 71,
     "metadata": {},
     "output_type": "execute_result"
    }
   ],
   "source": [
    "cost_pivot_sum = costs.pivot_table(index='source_id', values='costs', aggfunc='sum').reset_index()\n",
    "cost_pivot_sum"
   ]
  },
  {
   "cell_type": "code",
   "execution_count": 72,
   "metadata": {
    "scrolled": false
   },
   "outputs": [
    {
     "data": {
      "image/png": "[encoded data removed]",
      "text/plain": [
       "<Figure size 1440x720 with 1 Axes>"
      ]
     },
     "metadata": {},
     "output_type": "display_data"
    }
   ],
   "source": [
    "cost_pivot_sum.plot.bar(\n",
    "    x='source_id',\n",
    "    y='costs', \n",
    "    grid=True,\n",
    "    figsize=(20,10)\n",
    ")\n",
    "\n",
    "plt.title('Количество уникальных пользователей в неделю')\n",
    "plt.ylabel('Количество пользователей')\n",
    "plt.xlabel('Источник')\n",
    "plt.xticks(rotation=360)\n",
    "plt.legend().remove()\n",
    "plt.show()"
   ]
  },
  {
   "cell_type": "markdown",
   "metadata": {},
   "source": [
    "По графику видно, что в 3 источник трафика было вложено больше всего денег, а в 6 и 7 - совсем ничего(отсутствуют в таблице и на грачике), поэтому и приток посетителей через эти источники трафика самый низкий (это мы отметили на этапе предобработки данных)."
   ]
  },
  {
   "cell_type": "code",
   "execution_count": 73,
   "metadata": {
    "scrolled": true
   },
   "outputs": [
    {
     "data": {
      "text/plain": [
       "329132.0"
      ]
     },
     "execution_count": 73,
     "metadata": {},
     "output_type": "execute_result"
    }
   ],
   "source": [
    "cost_sum = cost_pivot_sum['costs'].sum()\n",
    "cost_sum.round()"
   ]
  },
  {
   "cell_type": "markdown",
   "metadata": {},
   "source": [
    "Общие затраты на маркетинг за весь исследуемый период - 329132 у.е."
   ]
  },
  {
   "cell_type": "code",
   "execution_count": 74,
   "metadata": {
    "scrolled": true
   },
   "outputs": [],
   "source": [
    "cost_pivot_time = costs.copy()"
   ]
  },
  {
   "cell_type": "code",
   "execution_count": 75,
   "metadata": {
    "scrolled": true
   },
   "outputs": [
    {
     "data": {
      "text/html": [
       "<div>\n",
       "<style scoped>\n",
       "    .dataframe tbody tr th:only-of-type {\n",
       "        vertical-align: middle;\n",
       "    }\n",
       "\n",
       "    .dataframe tbody tr th {\n",
       "        vertical-align: top;\n",
       "    }\n",
       "\n",
       "    .dataframe thead th {\n",
       "        text-align: right;\n",
       "    }\n",
       "</style>\n",
       "<table border=\"1\" class=\"dataframe\">\n",
       "  <thead>\n",
       "    <tr style=\"text-align: right;\">\n",
       "      <th></th>\n",
       "      <th>source_id</th>\n",
       "      <th>dt</th>\n",
       "      <th>costs</th>\n",
       "      <th>month</th>\n",
       "    </tr>\n",
       "  </thead>\n",
       "  <tbody>\n",
       "    <tr>\n",
       "      <th>0</th>\n",
       "      <td>1</td>\n",
       "      <td>2017-06-01</td>\n",
       "      <td>75.20</td>\n",
       "      <td>2017-06</td>\n",
       "    </tr>\n",
       "    <tr>\n",
       "      <th>1</th>\n",
       "      <td>1</td>\n",
       "      <td>2017-06-02</td>\n",
       "      <td>62.25</td>\n",
       "      <td>2017-06</td>\n",
       "    </tr>\n",
       "    <tr>\n",
       "      <th>2</th>\n",
       "      <td>1</td>\n",
       "      <td>2017-06-03</td>\n",
       "      <td>36.53</td>\n",
       "      <td>2017-06</td>\n",
       "    </tr>\n",
       "    <tr>\n",
       "      <th>3</th>\n",
       "      <td>1</td>\n",
       "      <td>2017-06-04</td>\n",
       "      <td>55.00</td>\n",
       "      <td>2017-06</td>\n",
       "    </tr>\n",
       "    <tr>\n",
       "      <th>4</th>\n",
       "      <td>1</td>\n",
       "      <td>2017-06-05</td>\n",
       "      <td>57.08</td>\n",
       "      <td>2017-06</td>\n",
       "    </tr>\n",
       "  </tbody>\n",
       "</table>\n",
       "</div>"
      ],
      "text/plain": [
       "   source_id         dt  costs    month\n",
       "0          1 2017-06-01  75.20  2017-06\n",
       "1          1 2017-06-02  62.25  2017-06\n",
       "2          1 2017-06-03  36.53  2017-06\n",
       "3          1 2017-06-04  55.00  2017-06\n",
       "4          1 2017-06-05  57.08  2017-06"
      ]
     },
     "execution_count": 75,
     "metadata": {},
     "output_type": "execute_result"
    }
   ],
   "source": [
    "cost_pivot_time['month'] = costs['dt'].dt.strftime('%Y-%m')\n",
    "cost_pivot_time.head()"
   ]
  },
  {
   "cell_type": "markdown",
   "metadata": {},
   "source": [
    "Рассчитаем затраты на маркетинг по месяцам."
   ]
  },
  {
   "cell_type": "code",
   "execution_count": 76,
   "metadata": {
    "scrolled": false
   },
   "outputs": [
    {
     "data": {
      "text/html": [
       "<div>\n",
       "<style scoped>\n",
       "    .dataframe tbody tr th:only-of-type {\n",
       "        vertical-align: middle;\n",
       "    }\n",
       "\n",
       "    .dataframe tbody tr th {\n",
       "        vertical-align: top;\n",
       "    }\n",
       "\n",
       "    .dataframe thead th {\n",
       "        text-align: right;\n",
       "    }\n",
       "</style>\n",
       "<table border=\"1\" class=\"dataframe\">\n",
       "  <thead>\n",
       "    <tr style=\"text-align: right;\">\n",
       "      <th></th>\n",
       "      <th>month</th>\n",
       "      <th>costs</th>\n",
       "    </tr>\n",
       "  </thead>\n",
       "  <tbody>\n",
       "    <tr>\n",
       "      <th>0</th>\n",
       "      <td>2017-06</td>\n",
       "      <td>18015.00</td>\n",
       "    </tr>\n",
       "    <tr>\n",
       "      <th>1</th>\n",
       "      <td>2017-07</td>\n",
       "      <td>18240.59</td>\n",
       "    </tr>\n",
       "    <tr>\n",
       "      <th>2</th>\n",
       "      <td>2017-08</td>\n",
       "      <td>14790.54</td>\n",
       "    </tr>\n",
       "    <tr>\n",
       "      <th>3</th>\n",
       "      <td>2017-09</td>\n",
       "      <td>24368.91</td>\n",
       "    </tr>\n",
       "    <tr>\n",
       "      <th>4</th>\n",
       "      <td>2017-10</td>\n",
       "      <td>36322.88</td>\n",
       "    </tr>\n",
       "    <tr>\n",
       "      <th>5</th>\n",
       "      <td>2017-11</td>\n",
       "      <td>37907.88</td>\n",
       "    </tr>\n",
       "    <tr>\n",
       "      <th>6</th>\n",
       "      <td>2017-12</td>\n",
       "      <td>38315.35</td>\n",
       "    </tr>\n",
       "    <tr>\n",
       "      <th>7</th>\n",
       "      <td>2018-01</td>\n",
       "      <td>33518.52</td>\n",
       "    </tr>\n",
       "    <tr>\n",
       "      <th>8</th>\n",
       "      <td>2018-02</td>\n",
       "      <td>32723.03</td>\n",
       "    </tr>\n",
       "    <tr>\n",
       "      <th>9</th>\n",
       "      <td>2018-03</td>\n",
       "      <td>30415.27</td>\n",
       "    </tr>\n",
       "    <tr>\n",
       "      <th>10</th>\n",
       "      <td>2018-04</td>\n",
       "      <td>22289.38</td>\n",
       "    </tr>\n",
       "    <tr>\n",
       "      <th>11</th>\n",
       "      <td>2018-05</td>\n",
       "      <td>22224.27</td>\n",
       "    </tr>\n",
       "  </tbody>\n",
       "</table>\n",
       "</div>"
      ],
      "text/plain": [
       "      month     costs\n",
       "0   2017-06  18015.00\n",
       "1   2017-07  18240.59\n",
       "2   2017-08  14790.54\n",
       "3   2017-09  24368.91\n",
       "4   2017-10  36322.88\n",
       "5   2017-11  37907.88\n",
       "6   2017-12  38315.35\n",
       "7   2018-01  33518.52\n",
       "8   2018-02  32723.03\n",
       "9   2018-03  30415.27\n",
       "10  2018-04  22289.38\n",
       "11  2018-05  22224.27"
      ]
     },
     "execution_count": 76,
     "metadata": {},
     "output_type": "execute_result"
    }
   ],
   "source": [
    "cost_month = cost_pivot_time.pivot_table(index='month', values='costs', aggfunc='sum').reset_index()\n",
    "cost_month"
   ]
  },
  {
   "cell_type": "code",
   "execution_count": 77,
   "metadata": {
    "scrolled": false
   },
   "outputs": [
    {
     "data": {
      "image/png": "[encoded data removed]",
      "text/plain": [
       "<Figure size 1440x720 with 1 Axes>"
      ]
     },
     "metadata": {},
     "output_type": "display_data"
    }
   ],
   "source": [
    "cost_month.plot.bar(\n",
    "    x='month',\n",
    "    y='costs', \n",
    "    grid=True,\n",
    "    figsize=(20,10)\n",
    ")\n",
    "plt.title('Затраты на маркетинг')\n",
    "plt.ylabel('Затраты в у.е.')\n",
    "plt.xlabel('Месяц')\n",
    "plt.xticks(rotation=360)\n",
    "plt.legend().remove()\n",
    "plt.show()"
   ]
  },
  {
   "cell_type": "markdown",
   "metadata": {},
   "source": [
    "По графику видим, что затраты на маркетинг имеют большой рост после августа 2017 года и в декабре начинают постепенно снижаться, вероятно была разработана новая маркетинговая стратегия по привлечению новых клиентов. Посмотрим, как распределены расходы в зависимости от разных источников трафика по месяцам и построим графики."
   ]
  },
  {
   "cell_type": "code",
   "execution_count": 78,
   "metadata": {
    "scrolled": true
   },
   "outputs": [
    {
     "data": {
      "text/html": [
       "<div>\n",
       "<style scoped>\n",
       "    .dataframe tbody tr th:only-of-type {\n",
       "        vertical-align: middle;\n",
       "    }\n",
       "\n",
       "    .dataframe tbody tr th {\n",
       "        vertical-align: top;\n",
       "    }\n",
       "\n",
       "    .dataframe thead th {\n",
       "        text-align: right;\n",
       "    }\n",
       "</style>\n",
       "<table border=\"1\" class=\"dataframe\">\n",
       "  <thead>\n",
       "    <tr style=\"text-align: right;\">\n",
       "      <th>source_id</th>\n",
       "      <th>month</th>\n",
       "      <th>1</th>\n",
       "      <th>2</th>\n",
       "      <th>3</th>\n",
       "      <th>4</th>\n",
       "      <th>5</th>\n",
       "      <th>9</th>\n",
       "      <th>10</th>\n",
       "    </tr>\n",
       "  </thead>\n",
       "  <tbody>\n",
       "    <tr>\n",
       "      <th>0</th>\n",
       "      <td>2017-06</td>\n",
       "      <td>1125.61</td>\n",
       "      <td>2427.38</td>\n",
       "      <td>7731.65</td>\n",
       "      <td>3514.80</td>\n",
       "      <td>2616.12</td>\n",
       "      <td>285.22</td>\n",
       "      <td>314.22</td>\n",
       "    </tr>\n",
       "    <tr>\n",
       "      <th>1</th>\n",
       "      <td>2017-07</td>\n",
       "      <td>1072.88</td>\n",
       "      <td>2333.11</td>\n",
       "      <td>7674.37</td>\n",
       "      <td>3529.73</td>\n",
       "      <td>2998.14</td>\n",
       "      <td>302.54</td>\n",
       "      <td>329.82</td>\n",
       "    </tr>\n",
       "    <tr>\n",
       "      <th>2</th>\n",
       "      <td>2017-08</td>\n",
       "      <td>951.81</td>\n",
       "      <td>1811.05</td>\n",
       "      <td>6143.54</td>\n",
       "      <td>3217.36</td>\n",
       "      <td>2185.28</td>\n",
       "      <td>248.93</td>\n",
       "      <td>232.57</td>\n",
       "    </tr>\n",
       "    <tr>\n",
       "      <th>3</th>\n",
       "      <td>2017-09</td>\n",
       "      <td>1502.01</td>\n",
       "      <td>2985.66</td>\n",
       "      <td>9963.55</td>\n",
       "      <td>5192.26</td>\n",
       "      <td>3849.14</td>\n",
       "      <td>415.62</td>\n",
       "      <td>460.67</td>\n",
       "    </tr>\n",
       "    <tr>\n",
       "      <th>4</th>\n",
       "      <td>2017-10</td>\n",
       "      <td>2315.75</td>\n",
       "      <td>4845.00</td>\n",
       "      <td>15737.24</td>\n",
       "      <td>6420.84</td>\n",
       "      <td>5767.40</td>\n",
       "      <td>609.41</td>\n",
       "      <td>627.24</td>\n",
       "    </tr>\n",
       "  </tbody>\n",
       "</table>\n",
       "</div>"
      ],
      "text/plain": [
       "source_id    month        1        2         3        4        5       9  \\\n",
       "0          2017-06  1125.61  2427.38   7731.65  3514.80  2616.12  285.22   \n",
       "1          2017-07  1072.88  2333.11   7674.37  3529.73  2998.14  302.54   \n",
       "2          2017-08   951.81  1811.05   6143.54  3217.36  2185.28  248.93   \n",
       "3          2017-09  1502.01  2985.66   9963.55  5192.26  3849.14  415.62   \n",
       "4          2017-10  2315.75  4845.00  15737.24  6420.84  5767.40  609.41   \n",
       "\n",
       "source_id      10  \n",
       "0          314.22  \n",
       "1          329.82  \n",
       "2          232.57  \n",
       "3          460.67  \n",
       "4          627.24  "
      ]
     },
     "execution_count": 78,
     "metadata": {},
     "output_type": "execute_result"
    }
   ],
   "source": [
    "cost_source = cost_pivot_time.pivot_table(\n",
    "    index='month', columns='source_id', values='costs', aggfunc='sum'\n",
    ").reset_index()\n",
    "cost_source.head()"
   ]
  },
  {
   "cell_type": "code",
   "execution_count": 87,
   "metadata": {},
   "outputs": [
    {
     "name": "stdout",
     "output_type": "stream",
     "text": [
      "Requirement already satisfied: seaborn in /Users/ruslan/opt/anaconda3/lib/python3.8/site-packages (0.11.1)\n",
      "Requirement already satisfied: scipy>=1.0 in /Users/ruslan/opt/anaconda3/lib/python3.8/site-packages (from seaborn) (1.6.2)\n",
      "Requirement already satisfied: matplotlib>=2.2 in /Users/ruslan/opt/anaconda3/lib/python3.8/site-packages (from seaborn) (3.3.4)\n",
      "Requirement already satisfied: numpy>=1.15 in /Users/ruslan/opt/anaconda3/lib/python3.8/site-packages (from seaborn) (1.20.1)\n",
      "Requirement already satisfied: pandas>=0.23 in /Users/ruslan/opt/anaconda3/lib/python3.8/site-packages (from seaborn) (1.2.4)\n",
      "Requirement already satisfied: pillow>=6.2.0 in /Users/ruslan/opt/anaconda3/lib/python3.8/site-packages (from matplotlib>=2.2->seaborn) (8.2.0)\n",
      "Requirement already satisfied: kiwisolver>=1.0.1 in /Users/ruslan/opt/anaconda3/lib/python3.8/site-packages (from matplotlib>=2.2->seaborn) (1.3.1)\n",
      "Requirement already satisfied: cycler>=0.10 in /Users/ruslan/opt/anaconda3/lib/python3.8/site-packages (from matplotlib>=2.2->seaborn) (0.10.0)\n",
      "Requirement already satisfied: python-dateutil>=2.1 in /Users/ruslan/opt/anaconda3/lib/python3.8/site-packages (from matplotlib>=2.2->seaborn) (2.8.1)\n",
      "Requirement already satisfied: pyparsing!=2.0.4,!=2.1.2,!=2.1.6,>=2.0.3 in /Users/ruslan/opt/anaconda3/lib/python3.8/site-packages (from matplotlib>=2.2->seaborn) (2.4.7)\n",
      "Requirement already satisfied: six in /Users/ruslan/opt/anaconda3/lib/python3.8/site-packages (from cycler>=0.10->matplotlib>=2.2->seaborn) (1.15.0)\n",
      "Requirement already satisfied: pytz>=2017.3 in /Users/ruslan/opt/anaconda3/lib/python3.8/site-packages (from pandas>=0.23->seaborn) (2021.1)\n"
     ]
    }
   ],
   "source": [
    "!pip install seaborn"
   ]
  },
  {
   "cell_type": "code",
   "execution_count": 88,
   "metadata": {
    "scrolled": false
   },
   "outputs": [
    {
     "ename": "ValueError",
     "evalue": "min() arg is an empty sequence",
     "output_type": "error",
     "traceback": [
      "\u001b[0;31m---------------------------------------------------------------------------\u001b[0m",
      "\u001b[0;31mValueError\u001b[0m                                Traceback (most recent call last)",
      "\u001b[0;32m<ipython-input-88-c38f6f388a57>\u001b[0m in \u001b[0;36m<module>\u001b[0;34m\u001b[0m\n\u001b[1;32m      6\u001b[0m \u001b[0mfig\u001b[0m\u001b[0;34m.\u001b[0m\u001b[0msuptitle\u001b[0m\u001b[0;34m(\u001b[0m\u001b[0;34m'Затраты на маркетинг по месяцам и источникам трафика'\u001b[0m\u001b[0;34m)\u001b[0m\u001b[0;34m\u001b[0m\u001b[0;34m\u001b[0m\u001b[0m\n\u001b[1;32m      7\u001b[0m \u001b[0;34m\u001b[0m\u001b[0m\n\u001b[0;32m----> 8\u001b[0;31m sns.barplot(ax=axes[0, 0], data=cost_pivot_time.query('source_id == \"1\"'), \n\u001b[0m\u001b[1;32m      9\u001b[0m             \u001b[0mx\u001b[0m\u001b[0;34m=\u001b[0m\u001b[0;34m'month'\u001b[0m\u001b[0;34m,\u001b[0m \u001b[0my\u001b[0m\u001b[0;34m=\u001b[0m\u001b[0;34m'costs'\u001b[0m\u001b[0;34m)\u001b[0m\u001b[0;34m.\u001b[0m\u001b[0mset_xlabel\u001b[0m\u001b[0;34m(\u001b[0m\u001b[0;34m\"Затраты на маркетинг по 1 источнику\"\u001b[0m\u001b[0;34m,\u001b[0m \u001b[0mfontsize\u001b[0m\u001b[0;34m=\u001b[0m\u001b[0;36m14\u001b[0m\u001b[0;34m\u001b[0m\u001b[0;34m\u001b[0m\u001b[0m\n\u001b[1;32m     10\u001b[0m                                                             )\n",
      "\u001b[0;32m~/opt/anaconda3/lib/python3.8/site-packages/seaborn/_decorators.py\u001b[0m in \u001b[0;36minner_f\u001b[0;34m(*args, **kwargs)\u001b[0m\n\u001b[1;32m     44\u001b[0m             )\n\u001b[1;32m     45\u001b[0m         \u001b[0mkwargs\u001b[0m\u001b[0;34m.\u001b[0m\u001b[0mupdate\u001b[0m\u001b[0;34m(\u001b[0m\u001b[0;34m{\u001b[0m\u001b[0mk\u001b[0m\u001b[0;34m:\u001b[0m \u001b[0marg\u001b[0m \u001b[0;32mfor\u001b[0m \u001b[0mk\u001b[0m\u001b[0;34m,\u001b[0m \u001b[0marg\u001b[0m \u001b[0;32min\u001b[0m \u001b[0mzip\u001b[0m\u001b[0;34m(\u001b[0m\u001b[0msig\u001b[0m\u001b[0;34m.\u001b[0m\u001b[0mparameters\u001b[0m\u001b[0;34m,\u001b[0m \u001b[0margs\u001b[0m\u001b[0;34m)\u001b[0m\u001b[0;34m}\u001b[0m\u001b[0;34m)\u001b[0m\u001b[0;34m\u001b[0m\u001b[0;34m\u001b[0m\u001b[0m\n\u001b[0;32m---> 46\u001b[0;31m         \u001b[0;32mreturn\u001b[0m \u001b[0mf\u001b[0m\u001b[0;34m(\u001b[0m\u001b[0;34m**\u001b[0m\u001b[0mkwargs\u001b[0m\u001b[0;34m)\u001b[0m\u001b[0;34m\u001b[0m\u001b[0;34m\u001b[0m\u001b[0m\n\u001b[0m\u001b[1;32m     47\u001b[0m     \u001b[0;32mreturn\u001b[0m \u001b[0minner_f\u001b[0m\u001b[0;34m\u001b[0m\u001b[0;34m\u001b[0m\u001b[0m\n\u001b[1;32m     48\u001b[0m \u001b[0;34m\u001b[0m\u001b[0m\n",
      "\u001b[0;32m~/opt/anaconda3/lib/python3.8/site-packages/seaborn/categorical.py\u001b[0m in \u001b[0;36mbarplot\u001b[0;34m(x, y, hue, data, order, hue_order, estimator, ci, n_boot, units, seed, orient, color, palette, saturation, errcolor, errwidth, capsize, dodge, ax, **kwargs)\u001b[0m\n\u001b[1;32m   3177\u001b[0m ):\n\u001b[1;32m   3178\u001b[0m \u001b[0;34m\u001b[0m\u001b[0m\n\u001b[0;32m-> 3179\u001b[0;31m     plotter = _BarPlotter(x, y, hue, data, order, hue_order,\n\u001b[0m\u001b[1;32m   3180\u001b[0m                           \u001b[0mestimator\u001b[0m\u001b[0;34m,\u001b[0m \u001b[0mci\u001b[0m\u001b[0;34m,\u001b[0m \u001b[0mn_boot\u001b[0m\u001b[0;34m,\u001b[0m \u001b[0munits\u001b[0m\u001b[0;34m,\u001b[0m \u001b[0mseed\u001b[0m\u001b[0;34m,\u001b[0m\u001b[0;34m\u001b[0m\u001b[0;34m\u001b[0m\u001b[0m\n\u001b[1;32m   3181\u001b[0m                           \u001b[0morient\u001b[0m\u001b[0;34m,\u001b[0m \u001b[0mcolor\u001b[0m\u001b[0;34m,\u001b[0m \u001b[0mpalette\u001b[0m\u001b[0;34m,\u001b[0m \u001b[0msaturation\u001b[0m\u001b[0;34m,\u001b[0m\u001b[0;34m\u001b[0m\u001b[0;34m\u001b[0m\u001b[0m\n",
      "\u001b[0;32m~/opt/anaconda3/lib/python3.8/site-packages/seaborn/categorical.py\u001b[0m in \u001b[0;36m__init__\u001b[0;34m(self, x, y, hue, data, order, hue_order, estimator, ci, n_boot, units, seed, orient, color, palette, saturation, errcolor, errwidth, capsize, dodge)\u001b[0m\n\u001b[1;32m   1584\u001b[0m         self.establish_variables(x, y, hue, data, orient,\n\u001b[1;32m   1585\u001b[0m                                  order, hue_order, units)\n\u001b[0;32m-> 1586\u001b[0;31m         \u001b[0mself\u001b[0m\u001b[0;34m.\u001b[0m\u001b[0mestablish_colors\u001b[0m\u001b[0;34m(\u001b[0m\u001b[0mcolor\u001b[0m\u001b[0;34m,\u001b[0m \u001b[0mpalette\u001b[0m\u001b[0;34m,\u001b[0m \u001b[0msaturation\u001b[0m\u001b[0;34m)\u001b[0m\u001b[0;34m\u001b[0m\u001b[0;34m\u001b[0m\u001b[0m\n\u001b[0m\u001b[1;32m   1587\u001b[0m         \u001b[0mself\u001b[0m\u001b[0;34m.\u001b[0m\u001b[0mestimate_statistic\u001b[0m\u001b[0;34m(\u001b[0m\u001b[0mestimator\u001b[0m\u001b[0;34m,\u001b[0m \u001b[0mci\u001b[0m\u001b[0;34m,\u001b[0m \u001b[0mn_boot\u001b[0m\u001b[0;34m,\u001b[0m \u001b[0mseed\u001b[0m\u001b[0;34m)\u001b[0m\u001b[0;34m\u001b[0m\u001b[0;34m\u001b[0m\u001b[0m\n\u001b[1;32m   1588\u001b[0m \u001b[0;34m\u001b[0m\u001b[0m\n",
      "\u001b[0;32m~/opt/anaconda3/lib/python3.8/site-packages/seaborn/categorical.py\u001b[0m in \u001b[0;36mestablish_colors\u001b[0;34m(self, color, palette, saturation)\u001b[0m\n\u001b[1;32m    317\u001b[0m         \u001b[0;31m# Determine the gray color to use for the lines framing the plot\u001b[0m\u001b[0;34m\u001b[0m\u001b[0;34m\u001b[0m\u001b[0;34m\u001b[0m\u001b[0m\n\u001b[1;32m    318\u001b[0m         \u001b[0mlight_vals\u001b[0m \u001b[0;34m=\u001b[0m \u001b[0;34m[\u001b[0m\u001b[0mcolorsys\u001b[0m\u001b[0;34m.\u001b[0m\u001b[0mrgb_to_hls\u001b[0m\u001b[0;34m(\u001b[0m\u001b[0;34m*\u001b[0m\u001b[0mc\u001b[0m\u001b[0;34m)\u001b[0m\u001b[0;34m[\u001b[0m\u001b[0;36m1\u001b[0m\u001b[0;34m]\u001b[0m \u001b[0;32mfor\u001b[0m \u001b[0mc\u001b[0m \u001b[0;32min\u001b[0m \u001b[0mrgb_colors\u001b[0m\u001b[0;34m]\u001b[0m\u001b[0;34m\u001b[0m\u001b[0;34m\u001b[0m\u001b[0m\n\u001b[0;32m--> 319\u001b[0;31m         \u001b[0mlum\u001b[0m \u001b[0;34m=\u001b[0m \u001b[0mmin\u001b[0m\u001b[0;34m(\u001b[0m\u001b[0mlight_vals\u001b[0m\u001b[0;34m)\u001b[0m \u001b[0;34m*\u001b[0m \u001b[0;36m.6\u001b[0m\u001b[0;34m\u001b[0m\u001b[0;34m\u001b[0m\u001b[0m\n\u001b[0m\u001b[1;32m    320\u001b[0m         \u001b[0mgray\u001b[0m \u001b[0;34m=\u001b[0m \u001b[0mmpl\u001b[0m\u001b[0;34m.\u001b[0m\u001b[0mcolors\u001b[0m\u001b[0;34m.\u001b[0m\u001b[0mrgb2hex\u001b[0m\u001b[0;34m(\u001b[0m\u001b[0;34m(\u001b[0m\u001b[0mlum\u001b[0m\u001b[0;34m,\u001b[0m \u001b[0mlum\u001b[0m\u001b[0;34m,\u001b[0m \u001b[0mlum\u001b[0m\u001b[0;34m)\u001b[0m\u001b[0;34m)\u001b[0m\u001b[0;34m\u001b[0m\u001b[0;34m\u001b[0m\u001b[0m\n\u001b[1;32m    321\u001b[0m \u001b[0;34m\u001b[0m\u001b[0m\n",
      "\u001b[0;31mValueError\u001b[0m: min() arg is an empty sequence"
     ]
    },
    {
     "data": {
      "image/png": "[encoded data removed]",
      "text/plain": [
       "<Figure size 1800x1080 with 8 Axes>"
      ]
     },
     "metadata": {},
     "output_type": "display_data"
    }
   ],
   "source": [
    "import seaborn as sns # вызываем библиотеку seaborn\n",
    "sns.set()\n",
    "\n",
    "fig, axes = plt.subplots(4, 2, figsize=(25, 15)) # задаем положение графиков рядом\n",
    "\n",
    "fig.suptitle('Затраты на маркетинг по месяцам и источникам трафика')\n",
    "\n",
    "sns.barplot(ax=axes[0, 0], data=cost_pivot_time.query('source_id == \"1\"'), \n",
    "            x='month', y='costs').set_xlabel(\"Затраты на маркетинг по 1 источнику\", fontsize=14\n",
    "                                                            )\n",
    "sns.barplot(ax=axes[0, 1], data=cost_pivot_time.query('source_id == \"2\"'), \n",
    "            x='month', y='costs').set_xlabel(\"Затраты на маркетинг по 2 источнику\", fontsize=14\n",
    "                                                            )\n",
    "sns.barplot(ax=axes[1, 0], data=cost_pivot_time.query('source_id == \"3\"'), \n",
    "            x='month', y='costs').set_xlabel(\"Затраты на маркетинг по 3 источнику\", fontsize=14\n",
    "                                                            )\n",
    "sns.barplot(ax=axes[1, 1], data=cost_pivot_time.query('source_id == \"4\"'), \n",
    "            x='month', y='costs').set_xlabel(\"Затраты на маркетинг по 4 источнику\", fontsize=14\n",
    "                                                            )\n",
    "sns.barplot(ax=axes[2, 0], data=cost_pivot_time.query('source_id == \"5\"'), \n",
    "            x='month', y='costs').set_xlabel(\"Затраты на маркетинг по 5 источнику\", fontsize=14\n",
    "                                                          )\n",
    "sns.barplot(ax=axes[2, 1], data=cost_pivot_time.query('source_id == \"9\"'), \n",
    "            x='month', y='costs').set_xlabel(\"Затраты на маркетинг по 9 источнику\", fontsize=14\n",
    "                                                            )\n",
    "sns.barplot(ax=axes[3, 0], data=cost_pivot_time.query('source_id == \"10\"'), \n",
    "            x='month', y='costs').set_xlabel(\"Затраты на маркетинг по 10 источнику\", fontsize=14\n",
    "                                                            )\n",
    "\n",
    "plt.show()"
   ]
  },
  {
   "cell_type": "markdown",
   "metadata": {},
   "source": [
    "Практически по всем источникам трафика сохраняется общий тренд распределения затрат на маркетинг по месяцам, кроме 4 источника, там больше всего денег вложили в декабря, а не в ноябре, как в остальные источники. Возможно, обратили внимание, что этот источник трафика \"приводит\" много посетителей и решили больше вложиться в него."
   ]
  },
  {
   "cell_type": "markdown",
   "metadata": {},
   "source": [
    "Проведем рассчет стоимости привлечения новых клиентов (САС) в зависимости от источника трафика."
   ]
  },
  {
   "cell_type": "code",
   "execution_count": null,
   "metadata": {
    "scrolled": true
   },
   "outputs": [],
   "source": [
    "costs['dt'] = pd.to_datetime(costs['dt']).dt.date"
   ]
  },
  {
   "cell_type": "code",
   "execution_count": null,
   "metadata": {
    "scrolled": true
   },
   "outputs": [],
   "source": [
    "order_cac = orders_log.copy()\n",
    "visit_cac = visits_log.copy()\n",
    "cost_cac = costs.copy()"
   ]
  },
  {
   "cell_type": "code",
   "execution_count": null,
   "metadata": {
    "scrolled": true
   },
   "outputs": [],
   "source": [
    "order_cac['buy_ts'] = order_cac['buy_ts'].astype('datetime64[D]')"
   ]
  },
  {
   "cell_type": "code",
   "execution_count": null,
   "metadata": {
    "scrolled": true
   },
   "outputs": [],
   "source": [
    "# Определяем первую дату заказа для каждого пользователя\n",
    "first_order_cac = order_cac.groupby(['uid']).agg({'buy_ts': 'min'}).reset_index()\n",
    "first_order_cac.columns = ['uid', 'first_order_date']"
   ]
  },
  {
   "cell_type": "code",
   "execution_count": null,
   "metadata": {
    "scrolled": true
   },
   "outputs": [],
   "source": [
    "first_order_cac['first_order_date'] = first_order_cac['first_order_date'].dt.date"
   ]
  },
  {
   "cell_type": "code",
   "execution_count": null,
   "metadata": {
    "scrolled": true
   },
   "outputs": [],
   "source": [
    "# Формируем таблицу с источниками, через которые сделан первый заказ\n",
    "visit_cac['start_ts_date'] = visit_cac['start_ts'].astype('datetime64[D]')\n",
    "visit_cac = visit_cac.sort_values('start_ts').groupby('uid').first().reset_index()"
   ]
  },
  {
   "cell_type": "code",
   "execution_count": null,
   "metadata": {
    "scrolled": true
   },
   "outputs": [],
   "source": [
    "# Объединяем полученные таблицы\n",
    "source_first_visit = pd.merge(first_order_cac, visit_cac, on='uid')"
   ]
  },
  {
   "cell_type": "code",
   "execution_count": null,
   "metadata": {
    "scrolled": true
   },
   "outputs": [],
   "source": [
    "# Группируем таблицу по источнику и дате первого заказа, считаем количество покупателей\n",
    "source_first_visit_grouped = source_first_visit.groupby(\n",
    "    ['source_id', 'first_order_date']\n",
    ").agg({'uid': 'nunique',}).reset_index()"
   ]
  },
  {
   "cell_type": "code",
   "execution_count": null,
   "metadata": {
    "scrolled": true
   },
   "outputs": [],
   "source": [
    "source_first_visit_grouped = source_first_visit_grouped.rename(columns={'uid': 'n_buyers'})"
   ]
  },
  {
   "cell_type": "code",
   "execution_count": null,
   "metadata": {
    "scrolled": true
   },
   "outputs": [],
   "source": [
    "# Объединяем полученную таблицу с таблицей с расходами на маркетинг\n",
    "cost_source = pd.merge(source_first_visit_grouped, cost_cac,\n",
    "                          left_on=['source_id','first_order_date'], right_on=['source_id','dt'], how='inner')"
   ]
  },
  {
   "cell_type": "code",
   "execution_count": null,
   "metadata": {
    "scrolled": true
   },
   "outputs": [],
   "source": [
    "# Считаем САС, делим затраты на колмчество пользователей\n",
    "cost_source['cac'] = cost_source['costs'] / cost_source['n_buyers']\n",
    "cac_source = cost_source.groupby('source_id')['cac'].mean().reset_index()\n",
    "cac_source"
   ]
  },
  {
   "cell_type": "markdown",
   "metadata": {},
   "source": [
    "Построим график зависимости затра на привлечение клиента в зависимости от источника трафика."
   ]
  },
  {
   "cell_type": "code",
   "execution_count": null,
   "metadata": {},
   "outputs": [],
   "source": [
    "plt.style.use('ggplot')\n",
    "cac_source.plot.bar(\n",
    "    x='source_id',\n",
    "    y='cac', \n",
    "    grid=True,\n",
    "    figsize=(20,10)\n",
    ")\n",
    "plt.title('Затраты на привлечение клиента по источникам трафика')\n",
    "plt.ylabel('Стоимость привлечения клиента')\n",
    "plt.xlabel('Источник рекламы')\n",
    "plt.xticks(rotation=360)\n",
    "plt.legend().remove()\n",
    "plt.show()"
   ]
  },
  {
   "cell_type": "markdown",
   "metadata": {},
   "source": [
    "Больше всего средств было потрачено на рекламу через источники 2 и 3. Рассчитаем САС на одного покупателя."
   ]
  },
  {
   "cell_type": "code",
   "execution_count": null,
   "metadata": {
    "scrolled": true
   },
   "outputs": [],
   "source": [
    "cac_total = cost_source['costs'].sum() / cost_source['n_buyers'].sum()\n",
    "cac_total"
   ]
  },
  {
   "cell_type": "markdown",
   "metadata": {},
   "source": [
    "В среднем на привлечение одного клиента было потрачено 8.97 у.е."
   ]
  },
  {
   "cell_type": "markdown",
   "metadata": {},
   "source": [
    "Теперь займемся рассчетом возврата маркетинговых инвестиций (ROMI), для этого нам необходимо рассчитать LTV в разрезе источников трафика."
   ]
  },
  {
   "cell_type": "code",
   "execution_count": null,
   "metadata": {},
   "outputs": [],
   "source": [
    "visit_romi = visits_log.copy()\n",
    "visit_romi['start_ts_date'] = visit_romi['start_ts'].astype('datetime64[D]')\n",
    "visit_romi = visit_romi.sort_values('start_ts').groupby('uid').first().reset_index()"
   ]
  },
  {
   "cell_type": "code",
   "execution_count": null,
   "metadata": {},
   "outputs": [],
   "source": [
    "source_romi = pd.merge(first_order, visit_romi, on='uid')\n",
    "source_romi.head()"
   ]
  },
  {
   "cell_type": "markdown",
   "metadata": {},
   "source": [
    "Посчитаем количество покупок по каждому источнику."
   ]
  },
  {
   "cell_type": "code",
   "execution_count": null,
   "metadata": {},
   "outputs": [],
   "source": [
    "source_romi.groupby('source_id')['source_id'].count()"
   ]
  },
  {
   "cell_type": "markdown",
   "metadata": {},
   "source": [
    "Через источник 7 всего одна покупка, она помешает провести дальнейший анализ, поэтмоу удалим эту строку из таблицы."
   ]
  },
  {
   "cell_type": "code",
   "execution_count": null,
   "metadata": {},
   "outputs": [],
   "source": [
    "source_romi = source_romi.query('source_id != \"7\"')"
   ]
  },
  {
   "cell_type": "markdown",
   "metadata": {},
   "source": [
    "Создадим цикл, который для каждого источника выполняет когортный анализ и считает LTV за 6 месяцев."
   ]
  },
  {
   "cell_type": "code",
   "execution_count": null,
   "metadata": {
    "scrolled": false
   },
   "outputs": [],
   "source": [
    "\n",
    "for source_id, query in source_romi.groupby('source_id'):\n",
    "    \n",
    "        cohort_sizes_romi = query.groupby('first_order_month').agg({'uid': 'nunique'}).reset_index()\n",
    "        cohort_sizes_romi.columns = ['first_order_month', 'n_buyers']\n",
    "    \n",
    "        cohorts_romi = (\n",
    "            query.groupby(['first_order_month', 'order_month'])\n",
    "            .agg({'revenue': 'sum'})\n",
    "            .reset_index()\n",
    "        )\n",
    "    \n",
    "        report_romi = pd.merge(cohort_sizes_romi, cohorts_romi, on='first_order_month')\n",
    "    \n",
    "        report_romi['age'] = (\n",
    "            report_romi['order_month'] - report_romi['first_order_month']\n",
    "        ) / np.timedelta64(1, 'M')\n",
    "    \n",
    "        report_romi['age'] = report_romi['age'].round().astype('int')\n",
    "    \n",
    "        report_romi['ltv'] = report_romi['revenue'] / report_romi['n_buyers']\n",
    "\n",
    "        report_romi['first_order_month'] = report_romi['first_order_month'].astype('str')\n",
    "\n",
    "        output_romi = report_romi.pivot_table(\n",
    "            index='first_order_month', columns='age', values='ltv', aggfunc='mean'\n",
    "        ).round(2)\n",
    "\n",
    "        output_romi.fillna('') \n",
    "\n",
    "        output_romi = output_romi.cumsum(axis=1).round(2) \n",
    "    \n",
    "        ltv_source = output_romi[6].mean()\n",
    "       \n",
    "        print(source_id, round(ltv_source, 2)) #выводим источник трафика и соответствующий ему LTV за 6 месяцев\n",
    "       "
   ]
  },
  {
   "cell_type": "code",
   "execution_count": null,
   "metadata": {},
   "outputs": [],
   "source": [
    "cac_source['cac'].round(2)"
   ]
  },
  {
   "cell_type": "code",
   "execution_count": null,
   "metadata": {},
   "outputs": [],
   "source": [
    "# создаем датафрейм для расчет ROMI\n",
    "romi = pd.DataFrame({'source_id' : [1, 2, 3, 4, 5, 9, 10],\n",
    "                     'ltv_source' : [13.76, 12.83, 5.96, 6.81, 10.33, 6.26, 3.94], \n",
    "                     'cac_source': [9.49, 16.29, 15.58, 7.27, 8.34, 6.84, 6.56]})\n",
    "romi"
   ]
  },
  {
   "cell_type": "code",
   "execution_count": null,
   "metadata": {},
   "outputs": [],
   "source": [
    "# рассчитываем ROMI\n",
    "romi['romi'] = romi['ltv_source'] / romi['cac_source']\n",
    "romi"
   ]
  },
  {
   "cell_type": "markdown",
   "metadata": {},
   "source": [
    "Посмотрим, как меняется ROMI в зависимости от источника трафика на графике."
   ]
  },
  {
   "cell_type": "code",
   "execution_count": null,
   "metadata": {},
   "outputs": [],
   "source": [
    "plt.style.use('ggplot')\n",
    "romi.plot.bar(\n",
    "    x='source_id',\n",
    "    y='romi', \n",
    "    grid=True,\n",
    "    figsize=(20,10)\n",
    ")\n",
    "plt.title('Окупаемость источников трафика')\n",
    "plt.ylabel('ROMI')\n",
    "plt.xlabel('Источник трафика')\n",
    "plt.axhline(y=1, color='black', linestyle='--') \n",
    "plt.xticks(rotation=360)\n",
    "plt.legend().remove()\n",
    "plt.show()"
   ]
  },
  {
   "cell_type": "markdown",
   "metadata": {},
   "source": [
    "По графику видим, что вложения на маркетинг окупились по 1 и 5 источникам трафика."
   ]
  },
  {
   "cell_type": "markdown",
   "metadata": {},
   "source": [
    "## ОБЩИЙ ВЫВОД"
   ]
  },
  {
   "cell_type": "markdown",
   "metadata": {},
   "source": [
    "Мы провели анализ данных о посещениях сайта Яндекс.Афиши, выгрузки заказов и статистики рекламных расходов.\n",
    "\n",
    "Мы выяснили, что у сайта хороший уровень вовлеченности аудитории, в декабре приходит наибольшее количество уникальных пользователей, а средняя пользовательская сессия длится 1 минуту.\n",
    "\n",
    "Мы провели когортный анализ и рассчитали *Retention Rate*, отметили, что пользователи возвращаются на сайт с течением времени.\n",
    "\n",
    "Оценили покупательское поведение посетителей: чаще всего посетители проводят одну минуту на сайте до совершения покупки, но в \"среднем\" с момента первого посещения сайта до совершения покупки проходит 16 минут, обычно пользователи совершают 1-2 покупки за исследуемый период, те редко возвращаются снова.\n",
    "\n",
    "Рассмотрели изменение среднего чека покупки во времени, максимального значения он достигает в декабре, что обсуловленно праздничным сезоном. Средний чек за весь рассматриваемый период - 4.96 у.е.\n",
    "\n",
    "Посчитали пожизненную ценность клиента (LTV), сделали вывод, что наиболее ценными являются когорты июня и сентября 2017 года.\n",
    "Мы посчитали, чтобы вложения в маркетинг окупались, привлечение одного покупателя не должно превышать 7.97 у.е. в месяц.\n",
    "\n",
    "Мы выяснили, что окупились 1 и 5 источники рекламы, 6 и 7 - почти не привлекают посетителей, на 3 источник было затрачено максимальное количество средств и он меньше всего окупился, хоть и привлекает много новых посетителей."
   ]
  }
 ],
 "metadata": {
  "kernelspec": {
   "display_name": "Python 3",
   "language": "python",
   "name": "python3"
  },
  "language_info": {
   "codemirror_mode": {
    "name": "ipython",
    "version": 3
   },
   "file_extension": ".py",
   "mimetype": "text/x-python",
   "name": "python",
   "nbconvert_exporter": "python",
   "pygments_lexer": "ipython3",
   "version": "3.8.8"
  },
  "toc": {
   "base_numbering": 1,
   "nav_menu": {},
   "number_sections": true,
   "sideBar": true,
   "skip_h1_title": true,
   "title_cell": "Table of Contents",
   "title_sidebar": "Contents",
   "toc_cell": false,
   "toc_position": {},
   "toc_section_display": true,
   "toc_window_display": false
  }
 },
 "nbformat": 4,
 "nbformat_minor": 2
}
